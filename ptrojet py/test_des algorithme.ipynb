{
 "cells": [
  {
   "cell_type": "code",
   "execution_count": 89,
   "id": "820f2909-3b80-43a3-bfdd-182d46774ed5",
   "metadata": {},
   "outputs": [],
   "source": [
    "import pandas as pd\n",
    "import numpy as np          \n",
    "import matplotlib.pyplot as plt\n",
    "import seaborn as sns\n",
    "#from sklearn.metrics import precision_recall_fscore_support\n",
    "from sklearn.feature_selection import VarianceThreshold\n",
    "from sklearn.model_selection import train_test_split\n",
    "from sklearn.metrics import classification_report,confusion_matrix,precision_recall_fscore_support\n",
    "from sklearn.metrics import accuracy_score\n",
    "\n",
    "%matplotlib inline"
   ]
  },
  {
   "cell_type": "code",
   "execution_count": 90,
   "id": "c1b92e24-9649-4ffa-afa9-24a7a74c75b4",
   "metadata": {},
   "outputs": [],
   "source": [
    "data=pd.read_csv(\"data_final.csv\" )"
   ]
  },
  {
   "cell_type": "code",
   "execution_count": 91,
   "id": "13da1eda-13bb-4e22-8039-cddaf9be1da1",
   "metadata": {},
   "outputs": [
    {
     "data": {
      "text/plain": [
       "(734, 29)"
      ]
     },
     "execution_count": 91,
     "metadata": {},
     "output_type": "execute_result"
    }
   ],
   "source": [
    "data.shape"
   ]
  },
  {
   "cell_type": "code",
   "execution_count": 92,
   "id": "1c8efadc-9cf6-42da-b451-394f3d2f0bdb",
   "metadata": {
    "tags": []
   },
   "outputs": [
    {
     "data": {
      "text/plain": [
       "active      370\n",
       "inactive    364\n",
       "Name: molecule_class, dtype: int64"
      ]
     },
     "execution_count": 92,
     "metadata": {},
     "output_type": "execute_result"
    }
   ],
   "source": [
    "data.molecule_class.value_counts()"
   ]
  },
  {
   "cell_type": "code",
   "execution_count": 93,
   "id": "65714e0f-2e2d-44f3-98f5-d04c5d5690dd",
   "metadata": {},
   "outputs": [
    {
     "data": {
      "text/plain": [
       "0"
      ]
     },
     "execution_count": 93,
     "metadata": {},
     "output_type": "execute_result"
    }
   ],
   "source": [
    "data.isnull().sum().sum()"
   ]
  },
  {
   "cell_type": "code",
   "execution_count": 94,
   "id": "2521a58e-c750-48de-9e2b-eac4474b0851",
   "metadata": {},
   "outputs": [
    {
     "data": {
      "text/plain": [
       "(734, 29)"
      ]
     },
     "execution_count": 94,
     "metadata": {},
     "output_type": "execute_result"
    }
   ],
   "source": [
    "data.shape"
   ]
  },
  {
   "cell_type": "code",
   "execution_count": 95,
   "id": "4b907e76-e4d1-4e37-aad6-fe3a930e6ad3",
   "metadata": {},
   "outputs": [
    {
     "data": {
      "text/html": [
       "<div>\n",
       "<style scoped>\n",
       "    .dataframe tbody tr th:only-of-type {\n",
       "        vertical-align: middle;\n",
       "    }\n",
       "\n",
       "    .dataframe tbody tr th {\n",
       "        vertical-align: top;\n",
       "    }\n",
       "\n",
       "    .dataframe thead th {\n",
       "        text-align: right;\n",
       "    }\n",
       "</style>\n",
       "<table border=\"1\" class=\"dataframe\">\n",
       "  <thead>\n",
       "    <tr style=\"text-align: right;\">\n",
       "      <th></th>\n",
       "      <th>Molecule_ChEMBL_ID</th>\n",
       "      <th>Standard_Value</th>\n",
       "      <th>Smiles_x</th>\n",
       "      <th>molecule_class</th>\n",
       "      <th>Max Phase</th>\n",
       "      <th>Molecular Weight</th>\n",
       "      <th>Targets</th>\n",
       "      <th>Bioactivities</th>\n",
       "      <th>AlogP</th>\n",
       "      <th>Polar Surface Area</th>\n",
       "      <th>...</th>\n",
       "      <th>Structure Type</th>\n",
       "      <th>Inorganic Flag</th>\n",
       "      <th>Heavy Atoms</th>\n",
       "      <th>HBA (Lipinski)</th>\n",
       "      <th>HBD (Lipinski)</th>\n",
       "      <th>#RO5 Violations (Lipinski)</th>\n",
       "      <th>Molecular Weight (Monoisotopic)</th>\n",
       "      <th>Molecular Species</th>\n",
       "      <th>Molecular Formula</th>\n",
       "      <th>Smiles_y</th>\n",
       "    </tr>\n",
       "  </thead>\n",
       "  <tbody>\n",
       "    <tr>\n",
       "      <th>0</th>\n",
       "      <td>CHEMBL240055</td>\n",
       "      <td>0.30</td>\n",
       "      <td>O=C(OC1([C@H]2CCC[C@@H](c3cc(F)cc(F)c3)N2S(=O)...</td>\n",
       "      <td>active</td>\n",
       "      <td>0.0</td>\n",
       "      <td>622.18</td>\n",
       "      <td>2.0</td>\n",
       "      <td>2.0</td>\n",
       "      <td>6.52</td>\n",
       "      <td>70.16</td>\n",
       "      <td>...</td>\n",
       "      <td>MOL</td>\n",
       "      <td>-1.0</td>\n",
       "      <td>42.0</td>\n",
       "      <td>7.0</td>\n",
       "      <td>0.0</td>\n",
       "      <td>2.0</td>\n",
       "      <td>621.2240</td>\n",
       "      <td>BASE</td>\n",
       "      <td>C31H38ClF2N3O4S</td>\n",
       "      <td>O=C(OC1([C@H]2CCC[C@@H](c3cc(F)cc(F)c3)N2S(=O)...</td>\n",
       "    </tr>\n",
       "    <tr>\n",
       "      <th>1</th>\n",
       "      <td>CHEMBL1091513</td>\n",
       "      <td>0.65</td>\n",
       "      <td>O=S(=O)(NC1CCC(c2cc(F)ccc2F)(S(=O)(=O)c2ccc(Cl...</td>\n",
       "      <td>active</td>\n",
       "      <td>0.0</td>\n",
       "      <td>517.93</td>\n",
       "      <td>443.0</td>\n",
       "      <td>525.0</td>\n",
       "      <td>4.67</td>\n",
       "      <td>80.31</td>\n",
       "      <td>...</td>\n",
       "      <td>MOL</td>\n",
       "      <td>-1.0</td>\n",
       "      <td>32.0</td>\n",
       "      <td>5.0</td>\n",
       "      <td>1.0</td>\n",
       "      <td>1.0</td>\n",
       "      <td>517.0208</td>\n",
       "      <td>ACID</td>\n",
       "      <td>C19H17ClF5NO4S2</td>\n",
       "      <td>O=S(=O)(NC1CCC(c2cc(F)ccc2F)(S(=O)(=O)c2ccc(Cl...</td>\n",
       "    </tr>\n",
       "    <tr>\n",
       "      <th>2</th>\n",
       "      <td>CHEMBL4110988</td>\n",
       "      <td>0.70</td>\n",
       "      <td>CO[C@H]1CC[C@]2(CC1)Cc1ccc(C#CC(C)C)cc1[C@]21N...</td>\n",
       "      <td>active</td>\n",
       "      <td>0.0</td>\n",
       "      <td>363.51</td>\n",
       "      <td>2.0</td>\n",
       "      <td>2.0</td>\n",
       "      <td>3.81</td>\n",
       "      <td>59.97</td>\n",
       "      <td>...</td>\n",
       "      <td>MOL</td>\n",
       "      <td>-1.0</td>\n",
       "      <td>27.0</td>\n",
       "      <td>4.0</td>\n",
       "      <td>2.0</td>\n",
       "      <td>0.0</td>\n",
       "      <td>363.2311</td>\n",
       "      <td>NEUTRAL</td>\n",
       "      <td>C23H29N3O</td>\n",
       "      <td>CO[C@H]1CC[C@]2(CC1)Cc1ccc(C#CC(C)C)cc1[C@]21N...</td>\n",
       "    </tr>\n",
       "    <tr>\n",
       "      <th>3</th>\n",
       "      <td>CHEMBL3898248</td>\n",
       "      <td>0.70</td>\n",
       "      <td>CO[C@H]1CC[C@]2(CC1)Cc1ccc(OCCC(F)(F)F)cc1[C@@...</td>\n",
       "      <td>active</td>\n",
       "      <td>0.0</td>\n",
       "      <td>409.45</td>\n",
       "      <td>2.0</td>\n",
       "      <td>2.0</td>\n",
       "      <td>4.13</td>\n",
       "      <td>69.20</td>\n",
       "      <td>...</td>\n",
       "      <td>MOL</td>\n",
       "      <td>-1.0</td>\n",
       "      <td>29.0</td>\n",
       "      <td>5.0</td>\n",
       "      <td>2.0</td>\n",
       "      <td>0.0</td>\n",
       "      <td>409.1977</td>\n",
       "      <td>NEUTRAL</td>\n",
       "      <td>C21H26F3N3O2</td>\n",
       "      <td>CO[C@H]1CC[C@]2(CC1)Cc1ccc(OCCC(F)(F)F)cc1[C@@...</td>\n",
       "    </tr>\n",
       "    <tr>\n",
       "      <th>4</th>\n",
       "      <td>CHEMBL3939963</td>\n",
       "      <td>0.80</td>\n",
       "      <td>CO[C@H]1CC[C@]2(CC1)Cc1ccc(OCCC3CC3)cc1C21N=C(...</td>\n",
       "      <td>active</td>\n",
       "      <td>0.0</td>\n",
       "      <td>381.52</td>\n",
       "      <td>2.0</td>\n",
       "      <td>2.0</td>\n",
       "      <td>3.98</td>\n",
       "      <td>69.20</td>\n",
       "      <td>...</td>\n",
       "      <td>MOL</td>\n",
       "      <td>-1.0</td>\n",
       "      <td>28.0</td>\n",
       "      <td>5.0</td>\n",
       "      <td>2.0</td>\n",
       "      <td>0.0</td>\n",
       "      <td>381.2416</td>\n",
       "      <td>NEUTRAL</td>\n",
       "      <td>C23H31N3O2</td>\n",
       "      <td>CO[C@H]1CC[C@]2(CC1)Cc1ccc(OCCC3CC3)cc1C21N=C(...</td>\n",
       "    </tr>\n",
       "  </tbody>\n",
       "</table>\n",
       "<p>5 rows × 29 columns</p>\n",
       "</div>"
      ],
      "text/plain": [
       "  Molecule_ChEMBL_ID  Standard_Value  \\\n",
       "0       CHEMBL240055            0.30   \n",
       "1      CHEMBL1091513            0.65   \n",
       "2      CHEMBL4110988            0.70   \n",
       "3      CHEMBL3898248            0.70   \n",
       "4      CHEMBL3939963            0.80   \n",
       "\n",
       "                                            Smiles_x molecule_class  \\\n",
       "0  O=C(OC1([C@H]2CCC[C@@H](c3cc(F)cc(F)c3)N2S(=O)...         active   \n",
       "1  O=S(=O)(NC1CCC(c2cc(F)ccc2F)(S(=O)(=O)c2ccc(Cl...         active   \n",
       "2  CO[C@H]1CC[C@]2(CC1)Cc1ccc(C#CC(C)C)cc1[C@]21N...         active   \n",
       "3  CO[C@H]1CC[C@]2(CC1)Cc1ccc(OCCC(F)(F)F)cc1[C@@...         active   \n",
       "4  CO[C@H]1CC[C@]2(CC1)Cc1ccc(OCCC3CC3)cc1C21N=C(...         active   \n",
       "\n",
       "   Max Phase  Molecular Weight  Targets  Bioactivities  AlogP  \\\n",
       "0        0.0            622.18      2.0            2.0   6.52   \n",
       "1        0.0            517.93    443.0          525.0   4.67   \n",
       "2        0.0            363.51      2.0            2.0   3.81   \n",
       "3        0.0            409.45      2.0            2.0   4.13   \n",
       "4        0.0            381.52      2.0            2.0   3.98   \n",
       "\n",
       "   Polar Surface Area  ...  Structure Type  Inorganic Flag  Heavy Atoms  \\\n",
       "0               70.16  ...             MOL            -1.0         42.0   \n",
       "1               80.31  ...             MOL            -1.0         32.0   \n",
       "2               59.97  ...             MOL            -1.0         27.0   \n",
       "3               69.20  ...             MOL            -1.0         29.0   \n",
       "4               69.20  ...             MOL            -1.0         28.0   \n",
       "\n",
       "   HBA (Lipinski) HBD (Lipinski)  #RO5 Violations (Lipinski)  \\\n",
       "0             7.0            0.0                         2.0   \n",
       "1             5.0            1.0                         1.0   \n",
       "2             4.0            2.0                         0.0   \n",
       "3             5.0            2.0                         0.0   \n",
       "4             5.0            2.0                         0.0   \n",
       "\n",
       "   Molecular Weight (Monoisotopic)  Molecular Species  Molecular Formula  \\\n",
       "0                         621.2240               BASE    C31H38ClF2N3O4S   \n",
       "1                         517.0208               ACID    C19H17ClF5NO4S2   \n",
       "2                         363.2311            NEUTRAL          C23H29N3O   \n",
       "3                         409.1977            NEUTRAL       C21H26F3N3O2   \n",
       "4                         381.2416            NEUTRAL         C23H31N3O2   \n",
       "\n",
       "                                            Smiles_y  \n",
       "0  O=C(OC1([C@H]2CCC[C@@H](c3cc(F)cc(F)c3)N2S(=O)...  \n",
       "1  O=S(=O)(NC1CCC(c2cc(F)ccc2F)(S(=O)(=O)c2ccc(Cl...  \n",
       "2  CO[C@H]1CC[C@]2(CC1)Cc1ccc(C#CC(C)C)cc1[C@]21N...  \n",
       "3  CO[C@H]1CC[C@]2(CC1)Cc1ccc(OCCC(F)(F)F)cc1[C@@...  \n",
       "4  CO[C@H]1CC[C@]2(CC1)Cc1ccc(OCCC3CC3)cc1C21N=C(...  \n",
       "\n",
       "[5 rows x 29 columns]"
      ]
     },
     "execution_count": 95,
     "metadata": {},
     "output_type": "execute_result"
    }
   ],
   "source": [
    "data.head()"
   ]
  },
  {
   "cell_type": "markdown",
   "id": "baaaa0fc-8742-4d09-a661-ff1cb0503189",
   "metadata": {},
   "source": [
    "X_test_in_app = data[['Molecule_ChEMBL_ID', 'Molecular Weight', 'Targets',\n",
    "       'Bioactivities', 'AlogP', 'Polar Surface Area', 'HBA',\n",
    "       '#Rotatable Bonds','CX LogP', 'CX LogD','Heavy Atoms',\n",
    "       'HBA (Lipinski)','HBD (Lipinski)', \n",
    "       'Molecular Weight (Monoisotopic)']]"
   ]
  },
  {
   "cell_type": "code",
   "execution_count": 7,
   "id": "7df101ff-de2c-442e-b701-2ed7c6bae596",
   "metadata": {},
   "outputs": [],
   "source": [
    "X = data[['Max Phase', 'Molecular Weight', 'Targets',\n",
    "       'Bioactivities', 'AlogP', 'Polar Surface Area', 'HBA', 'HBD',\n",
    "       '#RO5 Violations', '#Rotatable Bonds', 'QED Weighted',\n",
    "       'CX LogP', 'CX LogD', 'Aromatic Rings',\n",
    "       'Inorganic Flag', 'Heavy Atoms', 'HBA (Lipinski)',\n",
    "       'HBD (Lipinski)', '#RO5 Violations (Lipinski)',\n",
    "       'Molecular Weight (Monoisotopic)']]"
   ]
  },
  {
   "cell_type": "code",
   "execution_count": 8,
   "id": "3c9dad09-77b0-45da-8d91-a2f745c4b269",
   "metadata": {},
   "outputs": [
    {
     "data": {
      "text/plain": [
       "(734, 20)"
      ]
     },
     "execution_count": 8,
     "metadata": {},
     "output_type": "execute_result"
    }
   ],
   "source": [
    "X.shape"
   ]
  },
  {
   "cell_type": "markdown",
   "id": "d8728722-358b-4ab5-85b2-61dc52cc161c",
   "metadata": {},
   "source": [
    "<h1>feature selection</h1>"
   ]
  },
  {
   "cell_type": "code",
   "execution_count": 9,
   "id": "528db9e3-866a-4f73-9586-7bf855c06013",
   "metadata": {},
   "outputs": [
    {
     "data": {
      "text/plain": [
       "Index(['Molecular Weight', 'Targets', 'Bioactivities', 'AlogP',\n",
       "       'Polar Surface Area', 'HBA', '#Rotatable Bonds', 'CX LogP', 'CX LogD',\n",
       "       'Heavy Atoms', 'HBA (Lipinski)', 'HBD (Lipinski)',\n",
       "       'Molecular Weight (Monoisotopic)'],\n",
       "      dtype='object')"
      ]
     },
     "execution_count": 9,
     "metadata": {},
     "output_type": "execute_result"
    }
   ],
   "source": [
    "def remove_low_variance(input_data, threshold=2):\n",
    "    selection = VarianceThreshold(threshold)\n",
    "    selection.fit(input_data)\n",
    "    return input_data[input_data.columns[selection.get_support(indices=True)]]\n",
    "\n",
    "X = remove_low_variance(X, threshold=2)\n",
    "X.columns"
   ]
  },
  {
   "cell_type": "code",
   "execution_count": 10,
   "id": "52683ae3-f76e-4fc0-b589-2dd815939d9a",
   "metadata": {},
   "outputs": [
    {
     "data": {
      "text/plain": [
       "Molecular Weight                    16279.839654\n",
       "Targets                              4966.114949\n",
       "Bioactivities                      149254.408097\n",
       "AlogP                                   2.902275\n",
       "Polar Surface Area                   1124.201924\n",
       "HBA                                     4.505186\n",
       "#Rotatable Bonds                       11.372786\n",
       "CX LogP                                 3.230869\n",
       "CX LogD                                 4.467266\n",
       "Heavy Atoms                            75.619259\n",
       "HBA (Lipinski)                          4.909704\n",
       "HBD (Lipinski)                          2.078222\n",
       "Molecular Weight (Monoisotopic)     15897.643884\n",
       "dtype: float64"
      ]
     },
     "execution_count": 10,
     "metadata": {},
     "output_type": "execute_result"
    }
   ],
   "source": [
    "X.var(axis=0)"
   ]
  },
  {
   "cell_type": "code",
   "execution_count": 11,
   "id": "2db193f6-0eec-4614-ba41-6de69883efb0",
   "metadata": {},
   "outputs": [
    {
     "data": {
      "text/plain": [
       "(734, 13)"
      ]
     },
     "execution_count": 11,
     "metadata": {},
     "output_type": "execute_result"
    }
   ],
   "source": [
    "X.shape"
   ]
  },
  {
   "cell_type": "code",
   "execution_count": 12,
   "id": "8a81a0ac-c66e-45f0-8c86-e10b0e78c473",
   "metadata": {},
   "outputs": [
    {
     "data": {
      "text/plain": [
       "0        active\n",
       "1        active\n",
       "2        active\n",
       "3        active\n",
       "4        active\n",
       "         ...   \n",
       "729    inactive\n",
       "730    inactive\n",
       "731    inactive\n",
       "732    inactive\n",
       "733    inactive\n",
       "Name: molecule_class, Length: 734, dtype: object"
      ]
     },
     "execution_count": 12,
     "metadata": {},
     "output_type": "execute_result"
    }
   ],
   "source": [
    "y=data['molecule_class']\n",
    "y"
   ]
  },
  {
   "cell_type": "code",
   "execution_count": 13,
   "id": "2e1bd257-59bf-4e51-9ebc-754504b4d540",
   "metadata": {},
   "outputs": [
    {
     "data": {
      "text/plain": [
       "(734,)"
      ]
     },
     "execution_count": 13,
     "metadata": {},
     "output_type": "execute_result"
    }
   ],
   "source": [
    "y.shape"
   ]
  },
  {
   "cell_type": "markdown",
   "id": "ab4a00ad-9c6e-4ac8-8947-f4b7a096f4e0",
   "metadata": {
    "tags": []
   },
   "source": [
    "<h1>train test split</h1>"
   ]
  },
  {
   "cell_type": "code",
   "execution_count": 14,
   "id": "1f5ca698-1edb-486a-aa3b-cb6b5f351bf3",
   "metadata": {},
   "outputs": [],
   "source": [
    "X_train, X_test, y_train, y_test = train_test_split(X, y, test_size=0.2, random_state=10)"
   ]
  },
  {
   "cell_type": "code",
   "execution_count": 15,
   "id": "607556b1-bc87-4e6d-8cf3-9f0a6b8dc28f",
   "metadata": {},
   "outputs": [
    {
     "data": {
      "text/plain": [
       "(587, 13)"
      ]
     },
     "execution_count": 15,
     "metadata": {},
     "output_type": "execute_result"
    }
   ],
   "source": [
    "X_train.shape"
   ]
  },
  {
   "cell_type": "code",
   "execution_count": 16,
   "id": "ca32afe0-70ba-4c0d-8c5c-de3cb637759a",
   "metadata": {},
   "outputs": [
    {
     "data": {
      "text/plain": [
       "(147, 13)"
      ]
     },
     "execution_count": 16,
     "metadata": {},
     "output_type": "execute_result"
    }
   ],
   "source": [
    "X_test.shape"
   ]
  },
  {
   "cell_type": "code",
   "execution_count": 17,
   "id": "9fce6568-4010-4ed7-a9c7-8703d4e7ddf9",
   "metadata": {},
   "outputs": [
    {
     "data": {
      "text/plain": [
       "176      active\n",
       "329      active\n",
       "386    inactive\n",
       "142      active\n",
       "438    inactive\n",
       "161      active\n",
       "333      active\n",
       "564    inactive\n",
       "467    inactive\n",
       "550    inactive\n",
       "22       active\n",
       "298      active\n",
       "592    inactive\n",
       "153      active\n",
       "378    inactive\n",
       "194      active\n",
       "505    inactive\n",
       "188      active\n",
       "264      active\n",
       "681    inactive\n",
       "Name: molecule_class, dtype: object"
      ]
     },
     "execution_count": 17,
     "metadata": {},
     "output_type": "execute_result"
    }
   ],
   "source": [
    "y_train.head(20)"
   ]
  },
  {
   "cell_type": "code",
   "execution_count": 18,
   "id": "3d433528-b7d2-4ab4-81c8-fb83ba6fdbd2",
   "metadata": {},
   "outputs": [
    {
     "data": {
      "text/plain": [
       "active      297\n",
       "inactive    290\n",
       "Name: molecule_class, dtype: int64"
      ]
     },
     "execution_count": 18,
     "metadata": {},
     "output_type": "execute_result"
    }
   ],
   "source": [
    "y_train.value_counts()"
   ]
  },
  {
   "cell_type": "code",
   "execution_count": 19,
   "id": "9e23dd3a-73af-4cbc-a849-76689dd55d3c",
   "metadata": {},
   "outputs": [
    {
     "data": {
      "text/plain": [
       "inactive    74\n",
       "active      73\n",
       "Name: molecule_class, dtype: int64"
      ]
     },
     "execution_count": 19,
     "metadata": {},
     "output_type": "execute_result"
    }
   ],
   "source": [
    "y_test.value_counts()"
   ]
  },
  {
   "cell_type": "code",
   "execution_count": null,
   "id": "041b6145-8375-4550-9cd6-c3061990bfff",
   "metadata": {},
   "outputs": [],
   "source": []
  },
  {
   "cell_type": "code",
   "execution_count": 20,
   "id": "37fff594-42a5-4616-a7c8-d8bad28211b6",
   "metadata": {},
   "outputs": [],
   "source": [
    "#X_test.to_csv(\"test.csv\" ,index=False)"
   ]
  },
  {
   "cell_type": "markdown",
   "id": "973d2f8d-bebe-470d-9dd1-51a5ff1d8b41",
   "metadata": {
    "tags": []
   },
   "source": [
    "<h1>1 - naive_bayes</h1>"
   ]
  },
  {
   "cell_type": "markdown",
   "id": "ce71a83e-5cf6-4caa-963c-139c4b01dc1a",
   "metadata": {},
   "source": [
    "<h3>1.1 - ComplementNB</h3>"
   ]
  },
  {
   "cell_type": "code",
   "execution_count": 21,
   "id": "d926363e-b65b-44ac-b70c-1df1f767d482",
   "metadata": {},
   "outputs": [],
   "source": [
    "xx_train=X_train.drop(['AlogP','CX LogP','CX LogD'],axis='columns')\n",
    "xx_test=X_test.drop(['AlogP','CX LogP','CX LogD'],axis='columns')"
   ]
  },
  {
   "cell_type": "code",
   "execution_count": 22,
   "id": "e9cee372-1548-4358-9cfe-f2d57d49ce78",
   "metadata": {},
   "outputs": [
    {
     "data": {
      "text/plain": [
       "ComplementNB()"
      ]
     },
     "execution_count": 22,
     "metadata": {},
     "output_type": "execute_result"
    }
   ],
   "source": [
    "from sklearn.naive_bayes import ComplementNB\n",
    "com_nb_model = ComplementNB()\n",
    "com_nb_model.fit(xx_train,y_train)"
   ]
  },
  {
   "cell_type": "code",
   "execution_count": 23,
   "id": "4633d3ab-69c1-4e04-a97b-6e54f7c7d810",
   "metadata": {},
   "outputs": [
    {
     "data": {
      "text/plain": [
       "0.54421768707483"
      ]
     },
     "execution_count": 23,
     "metadata": {},
     "output_type": "execute_result"
    }
   ],
   "source": [
    "ComplementNB_acc=com_nb_model.score(xx_test,y_test)\n",
    "ComplementNB_acc"
   ]
  },
  {
   "cell_type": "code",
   "execution_count": 24,
   "id": "fa2d8ba0-0a68-4109-aabb-a59db4dd0326",
   "metadata": {},
   "outputs": [
    {
     "name": "stdout",
     "output_type": "stream",
     "text": [
      "              precision    recall  f1-score   support\n",
      "\n",
      "      active       0.52      0.97      0.68        73\n",
      "    inactive       0.82      0.12      0.21        74\n",
      "\n",
      "    accuracy                           0.54       147\n",
      "   macro avg       0.67      0.55      0.45       147\n",
      "weighted avg       0.67      0.54      0.44       147\n",
      "\n"
     ]
    },
    {
     "data": {
      "text/plain": [
       "array([[71,  2],\n",
       "       [65,  9]], dtype=int64)"
      ]
     },
     "execution_count": 24,
     "metadata": {},
     "output_type": "execute_result"
    }
   ],
   "source": [
    "predict_com_nb=com_nb_model.predict(xx_test)\n",
    "print(classification_report(y_test,predict_com_nb))\n",
    "ComplementNB_cm=confusion_matrix(y_test,predict_com_nb)\n",
    "ComplementNB_cm"
   ]
  },
  {
   "cell_type": "code",
   "execution_count": 25,
   "id": "5f9bd175-df22-44fb-be81-36dbf7aec7bb",
   "metadata": {},
   "outputs": [
    {
     "data": {
      "text/plain": [
       "(0.670120320855615, 0.5471121806738245, 0.4455952716014636, None)"
      ]
     },
     "execution_count": 25,
     "metadata": {},
     "output_type": "execute_result"
    }
   ],
   "source": [
    "ComplementNB_array = precision_recall_fscore_support(y_test,predict_com_nb,average='macro')\n",
    "ComplementNB_array"
   ]
  },
  {
   "cell_type": "code",
   "execution_count": null,
   "id": "ecfe8dae-d512-4d39-ab33-ef64d8c9b912",
   "metadata": {},
   "outputs": [],
   "source": []
  },
  {
   "cell_type": "markdown",
   "id": "11a8e7d0-dbc3-477a-a152-230a3314ecda",
   "metadata": {},
   "source": [
    "<h3>1.2 - MultinomialNB</h3>"
   ]
  },
  {
   "cell_type": "code",
   "execution_count": 26,
   "id": "ff099685-66e7-4887-b148-02ad79ce5e37",
   "metadata": {},
   "outputs": [
    {
     "data": {
      "text/plain": [
       "MultinomialNB()"
      ]
     },
     "execution_count": 26,
     "metadata": {},
     "output_type": "execute_result"
    }
   ],
   "source": [
    "from sklearn.naive_bayes import MultinomialNB\n",
    "mul_nb_model = MultinomialNB()\n",
    "mul_nb_model.fit(xx_train,y_train)"
   ]
  },
  {
   "cell_type": "code",
   "execution_count": 27,
   "id": "1b4ea0d3-0609-4710-928b-74ff6a6f4247",
   "metadata": {},
   "outputs": [
    {
     "data": {
      "text/plain": [
       "0.54421768707483"
      ]
     },
     "execution_count": 27,
     "metadata": {},
     "output_type": "execute_result"
    }
   ],
   "source": [
    "MultinomialNB_acc=mul_nb_model.score(xx_test,y_test)\n",
    "MultinomialNB_acc"
   ]
  },
  {
   "cell_type": "code",
   "execution_count": 28,
   "id": "62c46a60-7741-43ba-ba86-c3002450677e",
   "metadata": {},
   "outputs": [
    {
     "name": "stdout",
     "output_type": "stream",
     "text": [
      "              precision    recall  f1-score   support\n",
      "\n",
      "      active       0.52      0.97      0.68        73\n",
      "    inactive       0.82      0.12      0.21        74\n",
      "\n",
      "    accuracy                           0.54       147\n",
      "   macro avg       0.67      0.55      0.45       147\n",
      "weighted avg       0.67      0.54      0.44       147\n",
      "\n"
     ]
    },
    {
     "data": {
      "text/plain": [
       "array([[71,  2],\n",
       "       [65,  9]], dtype=int64)"
      ]
     },
     "execution_count": 28,
     "metadata": {},
     "output_type": "execute_result"
    }
   ],
   "source": [
    "predict_mul_nb=mul_nb_model.predict(xx_test)\n",
    "print(classification_report(y_test,predict_mul_nb))\n",
    "MultinomialNB_cm=confusion_matrix(y_test,predict_mul_nb)\n",
    "MultinomialNB_cm"
   ]
  },
  {
   "cell_type": "code",
   "execution_count": 29,
   "id": "cb2f0c89-3a2e-49bf-94fa-16fe008ab518",
   "metadata": {},
   "outputs": [
    {
     "data": {
      "text/plain": [
       "(0.670120320855615, 0.5471121806738245, 0.4455952716014636, None)"
      ]
     },
     "execution_count": 29,
     "metadata": {},
     "output_type": "execute_result"
    }
   ],
   "source": [
    "MultinomialNB_array = precision_recall_fscore_support(y_test,predict_mul_nb,average='macro')\n",
    "MultinomialNB_array"
   ]
  },
  {
   "cell_type": "code",
   "execution_count": null,
   "id": "70d71e1c-ab5e-43aa-806a-ba072d2b6222",
   "metadata": {},
   "outputs": [],
   "source": []
  },
  {
   "cell_type": "markdown",
   "id": "1a1dc92e-652a-48b8-915e-e806ff4e8671",
   "metadata": {},
   "source": [
    "<h3> 1.3 - BernoulliNB</h3>"
   ]
  },
  {
   "cell_type": "code",
   "execution_count": 30,
   "id": "0ebe985e-0820-4fcc-8f89-dea619ffa7b5",
   "metadata": {},
   "outputs": [
    {
     "data": {
      "text/plain": [
       "0.564625850340136"
      ]
     },
     "execution_count": 30,
     "metadata": {},
     "output_type": "execute_result"
    }
   ],
   "source": [
    "from sklearn.naive_bayes import BernoulliNB\n",
    "model_Bernoulli = BernoulliNB()\n",
    "model_Bernoulli.fit(X_train, y_train)\n",
    "#evaluation du modèle\n",
    "BernoulliNB_acc=model_Bernoulli.score(X_test,y_test)\n",
    "BernoulliNB_acc"
   ]
  },
  {
   "cell_type": "code",
   "execution_count": 31,
   "id": "bd228229-5677-4d7d-bca8-8c7d83c2c873",
   "metadata": {},
   "outputs": [
    {
     "name": "stdout",
     "output_type": "stream",
     "text": [
      "              precision    recall  f1-score   support\n",
      "\n",
      "      active       0.53      0.99      0.69        73\n",
      "    inactive       0.92      0.15      0.26        74\n",
      "\n",
      "    accuracy                           0.56       147\n",
      "   macro avg       0.72      0.57      0.47       147\n",
      "weighted avg       0.73      0.56      0.47       147\n",
      "\n"
     ]
    },
    {
     "data": {
      "text/plain": [
       "array([[72,  1],\n",
       "       [63, 11]], dtype=int64)"
      ]
     },
     "execution_count": 31,
     "metadata": {},
     "output_type": "execute_result"
    }
   ],
   "source": [
    "predict_ber_nb=model_Bernoulli.predict(X_test)\n",
    "print(classification_report(y_test,predict_ber_nb))\n",
    "BernoulliNB_cm=confusion_matrix(y_test,predict_ber_nb)\n",
    "BernoulliNB_cm"
   ]
  },
  {
   "cell_type": "code",
   "execution_count": 32,
   "id": "f4bd7725-ce7a-4778-bb0d-d5da3f23b144",
   "metadata": {},
   "outputs": [
    {
     "data": {
      "text/plain": [
       "(0.725, 0.5674750092558312, 0.4740608228980322, None)"
      ]
     },
     "execution_count": 32,
     "metadata": {},
     "output_type": "execute_result"
    }
   ],
   "source": [
    "BernoulliNB_array = precision_recall_fscore_support(y_test,predict_ber_nb,average='macro')\n",
    "BernoulliNB_array"
   ]
  },
  {
   "cell_type": "markdown",
   "id": "22eb1089-258c-4c97-bd43-589afd34d620",
   "metadata": {},
   "source": [
    "<h3> 1.4 - GaussianNB</h3>"
   ]
  },
  {
   "cell_type": "code",
   "execution_count": 33,
   "id": "f4768d06-e0b7-4485-b189-00ff744b8f4f",
   "metadata": {
    "tags": []
   },
   "outputs": [
    {
     "data": {
      "text/plain": [
       "0.6326530612244898"
      ]
     },
     "execution_count": 33,
     "metadata": {},
     "output_type": "execute_result"
    }
   ],
   "source": [
    "from sklearn.naive_bayes import GaussianNB\n",
    "model_gau_nb = GaussianNB(var_smoothing=0)\n",
    "model_gau_nb.fit(X_train,y_train)\n",
    "GaussianNB_acc=model_gau_nb.score(X_test,y_test)\n",
    "GaussianNB_acc"
   ]
  },
  {
   "cell_type": "code",
   "execution_count": 34,
   "id": "83f19425-f8e6-45f2-8c9d-ad231d99d7a8",
   "metadata": {},
   "outputs": [
    {
     "name": "stdout",
     "output_type": "stream",
     "text": [
      "              precision    recall  f1-score   support\n",
      "\n",
      "      active       0.60      0.79      0.68        73\n",
      "    inactive       0.70      0.47      0.56        74\n",
      "\n",
      "    accuracy                           0.63       147\n",
      "   macro avg       0.65      0.63      0.62       147\n",
      "weighted avg       0.65      0.63      0.62       147\n",
      "\n"
     ]
    },
    {
     "data": {
      "text/plain": [
       "0.6326530612244898"
      ]
     },
     "execution_count": 34,
     "metadata": {},
     "output_type": "execute_result"
    }
   ],
   "source": [
    "predict_gau_nb=model_gau_nb.predict(X_test)\n",
    "print(classification_report(y_test,predict_gau_nb))\n",
    "GaussianNB_cm=confusion_matrix(y_test,predict_gau_nb)\n",
    "GaussianNB_acc"
   ]
  },
  {
   "cell_type": "code",
   "execution_count": 35,
   "id": "316ffc6a-26af-4a78-b650-bf5fd17831e9",
   "metadata": {},
   "outputs": [
    {
     "data": {
      "text/plain": [
       "(0.6489690721649484, 0.6337467604590892, 0.6234345351043643, None)"
      ]
     },
     "execution_count": 35,
     "metadata": {},
     "output_type": "execute_result"
    }
   ],
   "source": [
    "GaussianNB_array = precision_recall_fscore_support(y_test,predict_gau_nb,average='macro')\n",
    "GaussianNB_array"
   ]
  },
  {
   "cell_type": "code",
   "execution_count": null,
   "id": "87e45cdf-01e3-452e-8cd4-ae6674d31355",
   "metadata": {},
   "outputs": [],
   "source": []
  },
  {
   "cell_type": "markdown",
   "id": "f1fd4108-4e8c-4b66-a2ca-cf8ef4ed8291",
   "metadata": {},
   "source": [
    "<h3>1.5 - CategoricalNB</h3>"
   ]
  },
  {
   "cell_type": "code",
   "execution_count": 36,
   "id": "d8ead000-4589-4be1-a606-fd231f0e9fe5",
   "metadata": {},
   "outputs": [
    {
     "data": {
      "text/plain": [
       "CategoricalNB()"
      ]
     },
     "execution_count": 36,
     "metadata": {},
     "output_type": "execute_result"
    }
   ],
   "source": [
    "from sklearn.naive_bayes import CategoricalNB\n",
    "model_cat_nb = CategoricalNB()\n",
    "model_cat_nb.fit(xx_train,y_train)\n"
   ]
  },
  {
   "cell_type": "code",
   "execution_count": 37,
   "id": "014732a4-b1fa-4a4f-a657-4d9f88d8ab22",
   "metadata": {},
   "outputs": [
    {
     "data": {
      "text/plain": [
       "0.8231292517006803"
      ]
     },
     "execution_count": 37,
     "metadata": {},
     "output_type": "execute_result"
    }
   ],
   "source": [
    "CategoricalNB_acc=model_cat_nb.score(xx_test,y_test)\n",
    "CategoricalNB_acc"
   ]
  },
  {
   "cell_type": "code",
   "execution_count": 38,
   "id": "776c97a6-e43a-4e26-a3b0-487420a7e955",
   "metadata": {},
   "outputs": [
    {
     "name": "stdout",
     "output_type": "stream",
     "text": [
      "              precision    recall  f1-score   support\n",
      "\n",
      "      active       0.79      0.88      0.83        73\n",
      "    inactive       0.86      0.77      0.81        74\n",
      "\n",
      "    accuracy                           0.82       147\n",
      "   macro avg       0.83      0.82      0.82       147\n",
      "weighted avg       0.83      0.82      0.82       147\n",
      "\n"
     ]
    },
    {
     "data": {
      "text/plain": [
       "array([[64,  9],\n",
       "       [17, 57]], dtype=int64)"
      ]
     },
     "execution_count": 38,
     "metadata": {},
     "output_type": "execute_result"
    }
   ],
   "source": [
    "predict_cat_nb = model_cat_nb.predict(xx_test)\n",
    "print(classification_report(y_test,predict_cat_nb))\n",
    "CategoricalNB_cm = confusion_matrix(y_test,predict_cat_nb)\n",
    "CategoricalNB_cm"
   ]
  },
  {
   "cell_type": "code",
   "execution_count": 39,
   "id": "3fed5e85-6903-4b5c-8cbd-72552be2c3f1",
   "metadata": {},
   "outputs": [
    {
     "data": {
      "text/plain": [
       "(0.8268799102132436, 0.8234912995186967, 0.8227272727272728, None)"
      ]
     },
     "execution_count": 39,
     "metadata": {},
     "output_type": "execute_result"
    }
   ],
   "source": [
    "CategoricalNB_array = precision_recall_fscore_support(y_test,predict_cat_nb,average='macro')\n",
    "CategoricalNB_array"
   ]
  },
  {
   "cell_type": "markdown",
   "id": "0e6bb599-5315-4657-bf79-707ff931c5aa",
   "metadata": {
    "tags": []
   },
   "source": [
    "<h1>2 - Logistic Regression</h1>"
   ]
  },
  {
   "cell_type": "code",
   "execution_count": 40,
   "id": "e657400b-974f-40c5-9c20-7007ceadfb96",
   "metadata": {},
   "outputs": [],
   "source": [
    "from sklearn.linear_model import LogisticRegression"
   ]
  },
  {
   "cell_type": "code",
   "execution_count": 41,
   "id": "7e0c632d-0213-48e0-a2aa-8ff102103086",
   "metadata": {},
   "outputs": [
    {
     "data": {
      "text/plain": [
       "LogisticRegression(C=0.09, max_iter=10000)"
      ]
     },
     "execution_count": 41,
     "metadata": {},
     "output_type": "execute_result"
    }
   ],
   "source": [
    "log_model=LogisticRegression(max_iter=10000,C=0.09)\n",
    "log_model.fit(X_train,y_train)"
   ]
  },
  {
   "cell_type": "code",
   "execution_count": 42,
   "id": "336db26c-13a8-4d5d-9328-0df540a28fae",
   "metadata": {},
   "outputs": [
    {
     "data": {
      "text/plain": [
       "0.7551020408163265"
      ]
     },
     "execution_count": 42,
     "metadata": {},
     "output_type": "execute_result"
    }
   ],
   "source": [
    "LogisticRegression_acc=log_model.score(X_test,y_test)\n",
    "LogisticRegression_acc"
   ]
  },
  {
   "cell_type": "code",
   "execution_count": 43,
   "id": "dfac5e39-8759-4c34-8366-7a389502f60b",
   "metadata": {},
   "outputs": [],
   "source": [
    "predictions_log=log_model.predict(X_test)"
   ]
  },
  {
   "cell_type": "code",
   "execution_count": 44,
   "id": "c638cc9e-7599-4f8f-a07b-b36d2402c78b",
   "metadata": {},
   "outputs": [
    {
     "name": "stdout",
     "output_type": "stream",
     "text": [
      "              precision    recall  f1-score   support\n",
      "\n",
      "      active       0.78      0.70      0.74        73\n",
      "    inactive       0.73      0.81      0.77        74\n",
      "\n",
      "    accuracy                           0.76       147\n",
      "   macro avg       0.76      0.75      0.75       147\n",
      "weighted avg       0.76      0.76      0.75       147\n",
      "\n"
     ]
    },
    {
     "data": {
      "text/plain": [
       "array([[51, 22],\n",
       "       [14, 60]], dtype=int64)"
      ]
     },
     "execution_count": 44,
     "metadata": {},
     "output_type": "execute_result"
    }
   ],
   "source": [
    "print(classification_report(y_test,predictions_log))\n",
    "LogisticRegression_cm=confusion_matrix(y_test,predictions_log)\n",
    "LogisticRegression_cm"
   ]
  },
  {
   "cell_type": "code",
   "execution_count": 45,
   "id": "78a3b9ad-42de-4571-b308-08f4708a6f88",
   "metadata": {},
   "outputs": [
    {
     "data": {
      "text/plain": [
       "(0.7581613508442777, 0.7547204738985561, 0.754180602006689, None)"
      ]
     },
     "execution_count": 45,
     "metadata": {},
     "output_type": "execute_result"
    }
   ],
   "source": [
    "LogisticRegression_array = precision_recall_fscore_support(y_test,predictions_log,average='macro')\n",
    "LogisticRegression_array"
   ]
  },
  {
   "cell_type": "markdown",
   "id": "e0736a15-ad56-4e57-bb21-15c71758a22d",
   "metadata": {},
   "source": [
    "<h1>3 - KNN</h1>"
   ]
  },
  {
   "cell_type": "code",
   "execution_count": 46,
   "id": "99532a4d-c04b-497a-812f-4900de3753d5",
   "metadata": {},
   "outputs": [],
   "source": [
    "from sklearn.neighbors import KNeighborsClassifier"
   ]
  },
  {
   "cell_type": "code",
   "execution_count": 47,
   "id": "c9672ba8-cec7-4ee2-be43-ff29f4958df8",
   "metadata": {},
   "outputs": [
    {
     "name": "stdout",
     "output_type": "stream",
     "text": [
      "The best accuracy was with 0.7755102040816326 with k= 1\n"
     ]
    }
   ],
   "source": [
    "Ks=100\n",
    "mean_acc=np.zeros((Ks-1))\n",
    "\n",
    "#train and predict\n",
    "for n in range(1,Ks):\n",
    "    neigh=KNeighborsClassifier(n_neighbors=n).fit(X_train,y_train)\n",
    "    yhat=neigh.predict(X_test)\n",
    "    mean_acc[n-1]=accuracy_score(y_test,yhat)\n",
    "    \n",
    "print( \"The best accuracy was with\", mean_acc.max(), \"with k=\", mean_acc.argmax()+1) "
   ]
  },
  {
   "cell_type": "code",
   "execution_count": 48,
   "id": "977b61f0-843c-47bb-984b-d4c2e40ca97f",
   "metadata": {},
   "outputs": [
    {
     "data": {
      "text/html": [
       "<div>\n",
       "<style scoped>\n",
       "    .dataframe tbody tr th:only-of-type {\n",
       "        vertical-align: middle;\n",
       "    }\n",
       "\n",
       "    .dataframe tbody tr th {\n",
       "        vertical-align: top;\n",
       "    }\n",
       "\n",
       "    .dataframe thead th {\n",
       "        text-align: right;\n",
       "    }\n",
       "</style>\n",
       "<table border=\"1\" class=\"dataframe\">\n",
       "  <thead>\n",
       "    <tr style=\"text-align: right;\">\n",
       "      <th></th>\n",
       "      <th>0</th>\n",
       "    </tr>\n",
       "  </thead>\n",
       "  <tbody>\n",
       "    <tr>\n",
       "      <th>0</th>\n",
       "      <td>0.775510</td>\n",
       "    </tr>\n",
       "    <tr>\n",
       "      <th>1</th>\n",
       "      <td>0.687075</td>\n",
       "    </tr>\n",
       "    <tr>\n",
       "      <th>2</th>\n",
       "      <td>0.721088</td>\n",
       "    </tr>\n",
       "    <tr>\n",
       "      <th>3</th>\n",
       "      <td>0.727891</td>\n",
       "    </tr>\n",
       "    <tr>\n",
       "      <th>4</th>\n",
       "      <td>0.727891</td>\n",
       "    </tr>\n",
       "    <tr>\n",
       "      <th>...</th>\n",
       "      <td>...</td>\n",
       "    </tr>\n",
       "    <tr>\n",
       "      <th>94</th>\n",
       "      <td>0.612245</td>\n",
       "    </tr>\n",
       "    <tr>\n",
       "      <th>95</th>\n",
       "      <td>0.605442</td>\n",
       "    </tr>\n",
       "    <tr>\n",
       "      <th>96</th>\n",
       "      <td>0.598639</td>\n",
       "    </tr>\n",
       "    <tr>\n",
       "      <th>97</th>\n",
       "      <td>0.598639</td>\n",
       "    </tr>\n",
       "    <tr>\n",
       "      <th>98</th>\n",
       "      <td>0.612245</td>\n",
       "    </tr>\n",
       "  </tbody>\n",
       "</table>\n",
       "<p>99 rows × 1 columns</p>\n",
       "</div>"
      ],
      "text/plain": [
       "           0\n",
       "0   0.775510\n",
       "1   0.687075\n",
       "2   0.721088\n",
       "3   0.727891\n",
       "4   0.727891\n",
       "..       ...\n",
       "94  0.612245\n",
       "95  0.605442\n",
       "96  0.598639\n",
       "97  0.598639\n",
       "98  0.612245\n",
       "\n",
       "[99 rows x 1 columns]"
      ]
     },
     "execution_count": 48,
     "metadata": {},
     "output_type": "execute_result"
    }
   ],
   "source": [
    "\n",
    "df_acc_knn = pd.DataFrame(data=mean_acc)\n",
    "df_acc_knn"
   ]
  },
  {
   "cell_type": "code",
   "execution_count": 49,
   "id": "a97d5e4d-593d-4087-a479-dbcbf5568bb4",
   "metadata": {},
   "outputs": [
    {
     "data": {
      "text/plain": [
       "array([0.7755102 , 0.68707483, 0.72108844, 0.72789116, 0.72789116,\n",
       "       0.70748299, 0.70748299, 0.70068027, 0.70068027, 0.69387755,\n",
       "       0.70068027, 0.67346939, 0.65986395, 0.6462585 , 0.67346939,\n",
       "       0.66666667, 0.67346939, 0.65986395, 0.66666667, 0.65986395,\n",
       "       0.66666667, 0.65986395, 0.63945578, 0.65306122, 0.65986395,\n",
       "       0.65986395, 0.6462585 , 0.65306122, 0.65306122, 0.65306122,\n",
       "       0.63945578, 0.6462585 , 0.6462585 , 0.6462585 , 0.63265306,\n",
       "       0.62585034, 0.63265306, 0.65306122, 0.63945578, 0.62585034,\n",
       "       0.62585034, 0.63265306, 0.62585034, 0.63265306, 0.63265306,\n",
       "       0.6462585 , 0.63945578, 0.63265306, 0.61904762, 0.62585034,\n",
       "       0.63265306, 0.61904762, 0.61904762, 0.63945578, 0.63945578,\n",
       "       0.63265306, 0.63945578, 0.63945578, 0.63945578, 0.63945578,\n",
       "       0.63265306, 0.63945578, 0.63945578, 0.63265306, 0.63265306,\n",
       "       0.62585034, 0.63265306, 0.63265306, 0.62585034, 0.62585034,\n",
       "       0.62585034, 0.63265306, 0.61904762, 0.61904762, 0.61904762,\n",
       "       0.63265306, 0.62585034, 0.63265306, 0.63265306, 0.62585034,\n",
       "       0.62585034, 0.62585034, 0.6122449 , 0.63265306, 0.63945578,\n",
       "       0.63265306, 0.63265306, 0.63265306, 0.62585034, 0.62585034,\n",
       "       0.62585034, 0.62585034, 0.61904762, 0.61904762, 0.6122449 ,\n",
       "       0.60544218, 0.59863946, 0.59863946, 0.6122449 ])"
      ]
     },
     "execution_count": 49,
     "metadata": {},
     "output_type": "execute_result"
    }
   ],
   "source": [
    "mean_acc\n"
   ]
  },
  {
   "cell_type": "code",
   "execution_count": 50,
   "id": "7a60e5fe-3c37-4f27-af65-e2243ea7c486",
   "metadata": {},
   "outputs": [],
   "source": [
    "knn_model=KNeighborsClassifier(n_neighbors=1)"
   ]
  },
  {
   "cell_type": "code",
   "execution_count": 51,
   "id": "f2a9d13c-5cd6-409c-810e-d39d8b38942c",
   "metadata": {},
   "outputs": [
    {
     "data": {
      "text/plain": [
       "KNeighborsClassifier(n_neighbors=1)"
      ]
     },
     "execution_count": 51,
     "metadata": {},
     "output_type": "execute_result"
    }
   ],
   "source": [
    "knn_model.fit(X_train,y_train)"
   ]
  },
  {
   "cell_type": "code",
   "execution_count": 52,
   "id": "58fcec6b-0ca0-45a0-905d-3811a9751c2f",
   "metadata": {},
   "outputs": [
    {
     "data": {
      "text/plain": [
       "0.7755102040816326"
      ]
     },
     "execution_count": 52,
     "metadata": {},
     "output_type": "execute_result"
    }
   ],
   "source": [
    "knn_acc=knn_model.score(X_test,y_test)\n",
    "knn_acc"
   ]
  },
  {
   "cell_type": "code",
   "execution_count": 53,
   "id": "cafeaf14-73ac-403b-b8f8-4012781779f2",
   "metadata": {},
   "outputs": [
    {
     "name": "stdout",
     "output_type": "stream",
     "text": [
      "              precision    recall  f1-score   support\n",
      "\n",
      "      active       0.76      0.81      0.78        73\n",
      "    inactive       0.80      0.74      0.77        74\n",
      "\n",
      "    accuracy                           0.78       147\n",
      "   macro avg       0.78      0.78      0.78       147\n",
      "weighted avg       0.78      0.78      0.78       147\n",
      "\n"
     ]
    },
    {
     "data": {
      "text/plain": [
       "array([[59, 14],\n",
       "       [19, 55]], dtype=int64)"
      ]
     },
     "execution_count": 53,
     "metadata": {},
     "output_type": "execute_result"
    }
   ],
   "source": [
    "predictions_knn=knn_model.predict(X_test)\n",
    "print(classification_report(y_test,predictions_knn))\n",
    "knn_cm=confusion_matrix(y_test,predictions_knn)\n",
    "knn_cm"
   ]
  },
  {
   "cell_type": "code",
   "execution_count": 54,
   "id": "5528f906-a806-431b-813a-4282d99d3211",
   "metadata": {},
   "outputs": [
    {
     "data": {
      "text/plain": [
       "(0.7767558528428093, 0.7757312106627174, 0.7753438614365766, None)"
      ]
     },
     "execution_count": 54,
     "metadata": {},
     "output_type": "execute_result"
    }
   ],
   "source": [
    "knn_array = precision_recall_fscore_support(y_test,predictions_knn,average='macro')\n",
    "knn_array"
   ]
  },
  {
   "cell_type": "code",
   "execution_count": 55,
   "id": "f042151c-f579-47d6-a278-d5c57a2b040a",
   "metadata": {},
   "outputs": [
    {
     "data": {
      "image/png": "[encoded data removed]",
      "text/plain": [
       "<Figure size 432x288 with 1 Axes>"
      ]
     },
     "metadata": {
      "needs_background": "light"
     },
     "output_type": "display_data"
    }
   ],
   "source": [
    "plt.plot(range(1,Ks),mean_acc,'r')\n",
    "plt.legend(('Accuracy '))\n",
    "plt.ylabel('Accuracy ')\n",
    "plt.xlabel('Number of Neighbors (K)')\n",
    "plt.tight_layout()\n",
    "plt.show()"
   ]
  },
  {
   "cell_type": "markdown",
   "id": "9004808e-5d34-41b8-986b-84e9d8dc4a25",
   "metadata": {},
   "source": [
    "<h1>4 - DecisionTreeClassifier</h1>"
   ]
  },
  {
   "cell_type": "code",
   "execution_count": 56,
   "id": "557769e5-e9df-4e4a-b0c2-3e4806669d1e",
   "metadata": {},
   "outputs": [
    {
     "data": {
      "text/plain": [
       "DecisionTreeClassifier()"
      ]
     },
     "execution_count": 56,
     "metadata": {},
     "output_type": "execute_result"
    }
   ],
   "source": [
    "from sklearn import tree\n",
    "dt_model = tree.DecisionTreeClassifier()\n",
    "dt_model.fit(X_train, y_train)"
   ]
  },
  {
   "cell_type": "code",
   "execution_count": 57,
   "id": "f2e5a878-9443-4858-83f4-44291ebcc309",
   "metadata": {},
   "outputs": [
    {
     "data": {
      "text/plain": [
       "0.8639455782312925"
      ]
     },
     "execution_count": 57,
     "metadata": {},
     "output_type": "execute_result"
    }
   ],
   "source": [
    "DecisionTreeClassifier_acc=dt_model.score(X_test,y_test)\n",
    "DecisionTreeClassifier_acc"
   ]
  },
  {
   "cell_type": "code",
   "execution_count": 58,
   "id": "c82c8fc5-e843-4d5a-b70d-47edacde22b5",
   "metadata": {},
   "outputs": [
    {
     "name": "stdout",
     "output_type": "stream",
     "text": [
      "              precision    recall  f1-score   support\n",
      "\n",
      "      active       0.86      0.86      0.86        73\n",
      "    inactive       0.86      0.86      0.86        74\n",
      "\n",
      "    accuracy                           0.86       147\n",
      "   macro avg       0.86      0.86      0.86       147\n",
      "weighted avg       0.86      0.86      0.86       147\n",
      "\n"
     ]
    },
    {
     "data": {
      "text/plain": [
       "array([[63, 10],\n",
       "       [10, 64]], dtype=int64)"
      ]
     },
     "execution_count": 58,
     "metadata": {},
     "output_type": "execute_result"
    }
   ],
   "source": [
    "predictions_dt=dt_model.predict(X_test)\n",
    "print(classification_report(y_test,predictions_dt))\n",
    "DecisionTreeClassifier_cm=confusion_matrix(y_test,predictions_dt)\n",
    "DecisionTreeClassifier_cm"
   ]
  },
  {
   "cell_type": "code",
   "execution_count": 59,
   "id": "7b61e431-e452-4b70-b920-565da59cc516",
   "metadata": {},
   "outputs": [
    {
     "data": {
      "text/plain": [
       "(0.8639392817475009, 0.8639392817475009, 0.8639392817475009, None)"
      ]
     },
     "execution_count": 59,
     "metadata": {},
     "output_type": "execute_result"
    }
   ],
   "source": [
    "DecisionTreeClassifier_array = precision_recall_fscore_support(y_test,predictions_dt,average='macro')\n",
    "DecisionTreeClassifier_array"
   ]
  },
  {
   "cell_type": "markdown",
   "id": "e3ede749-9493-4e5e-8fbb-bb626a2db914",
   "metadata": {
    "tags": []
   },
   "source": [
    "<h1>5 - SVM </h1>"
   ]
  },
  {
   "cell_type": "markdown",
   "id": "898ee4b4-58b7-44eb-88ea-e17c23c099ff",
   "metadata": {},
   "source": [
    "<h3>5.1 - SVM.SVC </h3>"
   ]
  },
  {
   "cell_type": "markdown",
   "id": "c18c0428-68cd-404e-8596-0fd21e3549d6",
   "metadata": {},
   "source": [
    "<h3>SVM kernel = rbf </h3>"
   ]
  },
  {
   "cell_type": "code",
   "execution_count": 60,
   "id": "be7c48b6-637c-4a1c-8622-48deb417709a",
   "metadata": {},
   "outputs": [
    {
     "data": {
      "text/plain": [
       "0.9251700680272109"
      ]
     },
     "execution_count": 60,
     "metadata": {},
     "output_type": "execute_result"
    }
   ],
   "source": [
    "from sklearn import svm\n",
    "svm_model = svm.SVC(kernel='rbf', C =100000, gamma = 0.00001)\n",
    "svm_model.fit(X_train,y_train)\n",
    "\n",
    "svm_rbf_acc=svm_model.score(X_test, y_test)\n",
    "svm_rbf_acc"
   ]
  },
  {
   "cell_type": "code",
   "execution_count": 61,
   "id": "1be01498-a073-4b0a-a5f6-8c375929a7c0",
   "metadata": {},
   "outputs": [
    {
     "name": "stdout",
     "output_type": "stream",
     "text": [
      "              precision    recall  f1-score   support\n",
      "\n",
      "      active       0.93      0.92      0.92        73\n",
      "    inactive       0.92      0.93      0.93        74\n",
      "\n",
      "    accuracy                           0.93       147\n",
      "   macro avg       0.93      0.93      0.93       147\n",
      "weighted avg       0.93      0.93      0.93       147\n",
      "\n"
     ]
    },
    {
     "data": {
      "text/plain": [
       "array([[67,  6],\n",
       "       [ 5, 69]], dtype=int64)"
      ]
     },
     "execution_count": 61,
     "metadata": {},
     "output_type": "execute_result"
    }
   ],
   "source": [
    "predictions_svm =svm_model.predict(X_test)\n",
    "from sklearn.metrics import classification_report,confusion_matrix\n",
    "print(classification_report(y_test,predictions_svm))\n",
    "svm_rbf_cm=confusion_matrix(y_test,predictions_svm)\n",
    "svm_rbf_cm"
   ]
  },
  {
   "cell_type": "code",
   "execution_count": 62,
   "id": "6f033026-a979-4e21-9312-f6d4bfe0a616",
   "metadata": {},
   "outputs": [
    {
     "data": {
      "text/plain": [
       "(0.9252777777777779, 0.9251203258052574, 0.9251562138393891, None)"
      ]
     },
     "execution_count": 62,
     "metadata": {},
     "output_type": "execute_result"
    }
   ],
   "source": [
    "svm_rbf_array = precision_recall_fscore_support(y_test,predictions_svm,average='macro')\n",
    "svm_rbf_array"
   ]
  },
  {
   "cell_type": "markdown",
   "id": "0f2f7bbc-7b29-46ce-84d5-611c9ad766bb",
   "metadata": {},
   "source": [
    "<h3>5.2 - SVM.NuSVC </h3>"
   ]
  },
  {
   "cell_type": "code",
   "execution_count": 63,
   "id": "d4164fde-1773-4768-bf60-c04846370ce7",
   "metadata": {},
   "outputs": [
    {
     "data": {
      "text/plain": [
       "NuSVC(gamma='auto')"
      ]
     },
     "execution_count": 63,
     "metadata": {},
     "output_type": "execute_result"
    }
   ],
   "source": [
    "from sklearn.svm import NuSVC\n",
    "Nusvc_model=svm.NuSVC(  gamma=\"auto\")\n",
    "Nusvc_model.fit(X_train, y_train)"
   ]
  },
  {
   "cell_type": "code",
   "execution_count": 64,
   "id": "550f37cf-b858-417e-b6de-e0f90e7d2e3a",
   "metadata": {},
   "outputs": [
    {
     "data": {
      "text/plain": [
       "0.7551020408163265"
      ]
     },
     "execution_count": 64,
     "metadata": {},
     "output_type": "execute_result"
    }
   ],
   "source": [
    "svm_NuSVC_acc=Nusvc_model.score(X_test, y_test)\n",
    "svm_NuSVC_acc\n",
    "# without parametre 71.42 \n",
    "# with gama auto 75.51\n",
    "\n"
   ]
  },
  {
   "cell_type": "code",
   "execution_count": 65,
   "id": "50848189-af19-4950-80b0-e8cb3c228ad3",
   "metadata": {},
   "outputs": [
    {
     "name": "stdout",
     "output_type": "stream",
     "text": [
      "              precision    recall  f1-score   support\n",
      "\n",
      "      active       0.95      0.53      0.68        73\n",
      "    inactive       0.68      0.97      0.80        74\n",
      "\n",
      "    accuracy                           0.76       147\n",
      "   macro avg       0.82      0.75      0.74       147\n",
      "weighted avg       0.81      0.76      0.74       147\n",
      "\n"
     ]
    },
    {
     "data": {
      "text/plain": [
       "array([[39, 34],\n",
       "       [ 2, 72]], dtype=int64)"
      ]
     },
     "execution_count": 65,
     "metadata": {},
     "output_type": "execute_result"
    }
   ],
   "source": [
    "predictions_Nusvc=Nusvc_model.predict(X_test)\n",
    "print(classification_report(y_test,predictions_Nusvc))\n",
    "svm_NuSVC_cm=confusion_matrix(y_test,predictions_Nusvc)\n",
    "svm_NuSVC_cm"
   ]
  },
  {
   "cell_type": "code",
   "execution_count": 66,
   "id": "c0b4dd64-c405-44f9-a054-789ba58c25d8",
   "metadata": {},
   "outputs": [
    {
     "data": {
      "text/plain": [
       "(0.8152323976069948, 0.7536097741577195, 0.7421052631578947, None)"
      ]
     },
     "execution_count": 66,
     "metadata": {},
     "output_type": "execute_result"
    }
   ],
   "source": [
    "svm_NuSVC_array = precision_recall_fscore_support(y_test,predictions_Nusvc,average='macro')\n",
    "svm_NuSVC_array"
   ]
  },
  {
   "cell_type": "code",
   "execution_count": null,
   "id": "38ed64c7-daee-4212-873b-913a10b3bca0",
   "metadata": {},
   "outputs": [],
   "source": []
  },
  {
   "cell_type": "markdown",
   "id": "ab1815cd-8e45-4631-8060-166c215a7b0b",
   "metadata": {},
   "source": [
    "<h1> 6 - BaggingClassifier </h1>"
   ]
  },
  {
   "cell_type": "code",
   "execution_count": 67,
   "id": "60c04770-8d7a-43a9-b32f-09efdcc583ce",
   "metadata": {},
   "outputs": [
    {
     "data": {
      "text/plain": [
       "0.9115646258503401"
      ]
     },
     "execution_count": 67,
     "metadata": {},
     "output_type": "execute_result"
    }
   ],
   "source": [
    "from sklearn.ensemble import BaggingClassifier\n",
    "from sklearn.tree import DecisionTreeClassifier\n",
    "bag_model = BaggingClassifier(base_estimator=DecisionTreeClassifier(), \n",
    "    n_estimators=10000, \n",
    "    max_samples=0.8,\n",
    "   )\n",
    "bag_model.fit(X_train, y_train)\n",
    "BaggingClassifier_acc = bag_model.score(X_test,y_test)\n",
    "BaggingClassifier_acc"
   ]
  },
  {
   "cell_type": "code",
   "execution_count": 68,
   "id": "31b33daa-5a5a-4d8f-8035-748d4e7c144b",
   "metadata": {},
   "outputs": [
    {
     "name": "stdout",
     "output_type": "stream",
     "text": [
      "              precision    recall  f1-score   support\n",
      "\n",
      "      active       0.91      0.92      0.91        73\n",
      "    inactive       0.92      0.91      0.91        74\n",
      "\n",
      "    accuracy                           0.91       147\n",
      "   macro avg       0.91      0.91      0.91       147\n",
      "weighted avg       0.91      0.91      0.91       147\n",
      "\n"
     ]
    },
    {
     "data": {
      "text/plain": [
       "array([[67,  6],\n",
       "       [ 7, 67]], dtype=int64)"
      ]
     },
     "execution_count": 68,
     "metadata": {},
     "output_type": "execute_result"
    }
   ],
   "source": [
    "predictions_bag=bag_model.predict(X_test)\n",
    "print(classification_report(y_test,predictions_bag))\n",
    "BaggingClassifier_cm=confusion_matrix(y_test,predictions_bag)\n",
    "BaggingClassifier_cm"
   ]
  },
  {
   "cell_type": "code",
   "execution_count": 69,
   "id": "68369f7c-537c-4c53-90bb-34e4e96677b8",
   "metadata": {},
   "outputs": [
    {
     "data": {
      "text/plain": [
       "(0.9116068122917438, 0.9116068122917438, 0.9115646258503401, None)"
      ]
     },
     "execution_count": 69,
     "metadata": {},
     "output_type": "execute_result"
    }
   ],
   "source": [
    "BaggingClassifier_array = precision_recall_fscore_support(y_test,predictions_bag,average='macro')\n",
    "BaggingClassifier_array"
   ]
  },
  {
   "cell_type": "markdown",
   "id": "2c1baed2-f85a-4a4d-be5b-3db92aa546c7",
   "metadata": {},
   "source": [
    "<h1>7 - RandomForestClassifier</h1>"
   ]
  },
  {
   "cell_type": "code",
   "execution_count": 70,
   "id": "3eac2d88-ef39-4899-8d72-6433956ef9a3",
   "metadata": {},
   "outputs": [
    {
     "data": {
      "text/plain": [
       "RandomForestClassifier(n_estimators=1000)"
      ]
     },
     "execution_count": 70,
     "metadata": {},
     "output_type": "execute_result"
    }
   ],
   "source": [
    "from sklearn.ensemble import RandomForestClassifier\n",
    "RF_model = RandomForestClassifier(n_estimators=1000)\n",
    "RF_model.fit(X_train, y_train)"
   ]
  },
  {
   "cell_type": "code",
   "execution_count": 71,
   "id": "bbd506a6-89ef-4078-9ac9-223aa94a9d69",
   "metadata": {},
   "outputs": [
    {
     "data": {
      "text/plain": [
       "0.9251700680272109"
      ]
     },
     "execution_count": 71,
     "metadata": {},
     "output_type": "execute_result"
    }
   ],
   "source": [
    "RandomForestClassifier_acc=RF_model.score(X_test, y_test)\n",
    "RandomForestClassifier_acc"
   ]
  },
  {
   "cell_type": "code",
   "execution_count": 72,
   "id": "64df96b3-09a3-4340-bade-d7efb823e741",
   "metadata": {},
   "outputs": [
    {
     "name": "stdout",
     "output_type": "stream",
     "text": [
      "              precision    recall  f1-score   support\n",
      "\n",
      "      active       0.94      0.90      0.92        73\n",
      "    inactive       0.91      0.95      0.93        74\n",
      "\n",
      "    accuracy                           0.93       147\n",
      "   macro avg       0.93      0.93      0.93       147\n",
      "weighted avg       0.93      0.93      0.93       147\n",
      "\n"
     ]
    },
    {
     "data": {
      "text/plain": [
       "array([[66,  7],\n",
       "       [ 4, 70]], dtype=int64)"
      ]
     },
     "execution_count": 72,
     "metadata": {},
     "output_type": "execute_result"
    }
   ],
   "source": [
    "predictions_RF=RF_model.predict(X_test)\n",
    "print(classification_report(y_test,predictions_RF))\n",
    "RandomForestClassifier_cm=confusion_matrix(y_test,predictions_RF)\n",
    "RandomForestClassifier_cm\n"
   ]
  },
  {
   "cell_type": "code",
   "execution_count": 73,
   "id": "0de9060c-96dd-4eda-8d21-68a20edb1749",
   "metadata": {
    "tags": []
   },
   "outputs": [
    {
     "data": {
      "text/plain": [
       "(0.9259740259740259, 0.9250277674935209, 0.925114620478859, None)"
      ]
     },
     "execution_count": 73,
     "metadata": {},
     "output_type": "execute_result"
    }
   ],
   "source": [
    "RandomForestClassifier_array = precision_recall_fscore_support(y_test,predictions_RF,average='macro')\n",
    "RandomForestClassifier_array"
   ]
  },
  {
   "cell_type": "code",
   "execution_count": 74,
   "id": "c86db2ad-8178-43b4-b7c2-eea800762c40",
   "metadata": {},
   "outputs": [
    {
     "data": {
      "text/html": [
       "<div>\n",
       "<style scoped>\n",
       "    .dataframe tbody tr th:only-of-type {\n",
       "        vertical-align: middle;\n",
       "    }\n",
       "\n",
       "    .dataframe tbody tr th {\n",
       "        vertical-align: top;\n",
       "    }\n",
       "\n",
       "    .dataframe thead th {\n",
       "        text-align: right;\n",
       "    }\n",
       "</style>\n",
       "<table border=\"1\" class=\"dataframe\">\n",
       "  <thead>\n",
       "    <tr style=\"text-align: right;\">\n",
       "      <th></th>\n",
       "      <th>active</th>\n",
       "      <th>inactive</th>\n",
       "    </tr>\n",
       "  </thead>\n",
       "  <tbody>\n",
       "    <tr>\n",
       "      <th>active</th>\n",
       "      <td>66</td>\n",
       "      <td>7</td>\n",
       "    </tr>\n",
       "    <tr>\n",
       "      <th>inactive</th>\n",
       "      <td>4</td>\n",
       "      <td>70</td>\n",
       "    </tr>\n",
       "  </tbody>\n",
       "</table>\n",
       "</div>"
      ],
      "text/plain": [
       "          active  inactive\n",
       "active        66         7\n",
       "inactive       4        70"
      ]
     },
     "execution_count": 74,
     "metadata": {},
     "output_type": "execute_result"
    }
   ],
   "source": [
    "cm1=pd.DataFrame(data=RandomForestClassifier_cm,index=['active','inactive'],columns=['active','inactive'])\n",
    "cm1"
   ]
  },
  {
   "cell_type": "code",
   "execution_count": null,
   "id": "4863692e-6294-4ecf-b16a-a940a9aceb76",
   "metadata": {},
   "outputs": [],
   "source": []
  },
  {
   "cell_type": "markdown",
   "id": "f2e993fb-d5c6-44ed-b52e-2caeff370a1a",
   "metadata": {},
   "source": [
    "<h1>8 - AdaBoostClassifier</h1>"
   ]
  },
  {
   "cell_type": "code",
   "execution_count": 75,
   "id": "52a4c53e-7aea-4c65-9b66-682923ff9c8c",
   "metadata": {
    "tags": []
   },
   "outputs": [
    {
     "data": {
      "text/plain": [
       "0.9251700680272109"
      ]
     },
     "execution_count": 75,
     "metadata": {},
     "output_type": "execute_result"
    }
   ],
   "source": [
    "from sklearn.ensemble import AdaBoostClassifier\n",
    "\n",
    "ada_model = AdaBoostClassifier(n_estimators=60, random_state=0)\n",
    "ada_model.fit(X_train,y_train)\n",
    "\n",
    "AdaBoostClassifier_acc =ada_model.score(X_test,y_test)\n",
    "AdaBoostClassifier_acc"
   ]
  },
  {
   "cell_type": "code",
   "execution_count": 76,
   "id": "116da25c-41ab-4ff9-9b38-6aace2af351b",
   "metadata": {},
   "outputs": [
    {
     "name": "stdout",
     "output_type": "stream",
     "text": [
      "              precision    recall  f1-score   support\n",
      "\n",
      "      active       0.93      0.92      0.92        73\n",
      "    inactive       0.92      0.93      0.93        74\n",
      "\n",
      "    accuracy                           0.93       147\n",
      "   macro avg       0.93      0.93      0.93       147\n",
      "weighted avg       0.93      0.93      0.93       147\n",
      "\n"
     ]
    },
    {
     "data": {
      "text/plain": [
       "array([[67,  6],\n",
       "       [ 5, 69]], dtype=int64)"
      ]
     },
     "execution_count": 76,
     "metadata": {},
     "output_type": "execute_result"
    }
   ],
   "source": [
    "predict_ada=ada_model.predict(X_test)\n",
    "\n",
    "print(classification_report(y_test,predict_ada))\n",
    "AdaBoostClassifier_cm=confusion_matrix(y_test,predict_ada)\n",
    "AdaBoostClassifier_cm"
   ]
  },
  {
   "cell_type": "code",
   "execution_count": 77,
   "id": "335c8579-b665-4f2e-8292-175b1054de64",
   "metadata": {},
   "outputs": [
    {
     "data": {
      "text/plain": [
       "(0.9252777777777779, 0.9251203258052574, 0.9251562138393891, None)"
      ]
     },
     "execution_count": 77,
     "metadata": {},
     "output_type": "execute_result"
    }
   ],
   "source": [
    "AdaBoostClassifier_array = precision_recall_fscore_support(y_test,predict_ada,average='macro')\n",
    "AdaBoostClassifier_array"
   ]
  },
  {
   "cell_type": "code",
   "execution_count": null,
   "id": "1218c3ba-f5c6-4419-8e57-27ff03f2a537",
   "metadata": {},
   "outputs": [],
   "source": []
  },
  {
   "cell_type": "code",
   "execution_count": null,
   "id": "7b96214d-4715-4d71-8068-9a615bcaa271",
   "metadata": {},
   "outputs": [],
   "source": []
  },
  {
   "cell_type": "code",
   "execution_count": 78,
   "id": "3a45059a-9f12-4e12-a06a-17952f33b037",
   "metadata": {},
   "outputs": [
    {
     "data": {
      "text/html": [
       "<div>\n",
       "<style scoped>\n",
       "    .dataframe tbody tr th:only-of-type {\n",
       "        vertical-align: middle;\n",
       "    }\n",
       "\n",
       "    .dataframe tbody tr th {\n",
       "        vertical-align: top;\n",
       "    }\n",
       "\n",
       "    .dataframe thead th {\n",
       "        text-align: right;\n",
       "    }\n",
       "</style>\n",
       "<table border=\"1\" class=\"dataframe\">\n",
       "  <thead>\n",
       "    <tr style=\"text-align: right;\">\n",
       "      <th></th>\n",
       "      <th>algo</th>\n",
       "      <th>accurency</th>\n",
       "    </tr>\n",
       "  </thead>\n",
       "  <tbody>\n",
       "    <tr>\n",
       "      <th>0</th>\n",
       "      <td>ComplementNB</td>\n",
       "      <td>54.421769</td>\n",
       "    </tr>\n",
       "    <tr>\n",
       "      <th>1</th>\n",
       "      <td>MultinomialNB</td>\n",
       "      <td>54.421769</td>\n",
       "    </tr>\n",
       "    <tr>\n",
       "      <th>2</th>\n",
       "      <td>BernoulliNB</td>\n",
       "      <td>56.462585</td>\n",
       "    </tr>\n",
       "    <tr>\n",
       "      <th>3</th>\n",
       "      <td>GaussianNB</td>\n",
       "      <td>63.265306</td>\n",
       "    </tr>\n",
       "    <tr>\n",
       "      <th>4</th>\n",
       "      <td>CategoricalNB</td>\n",
       "      <td>82.312925</td>\n",
       "    </tr>\n",
       "    <tr>\n",
       "      <th>5</th>\n",
       "      <td>LogisticRegression</td>\n",
       "      <td>75.510204</td>\n",
       "    </tr>\n",
       "    <tr>\n",
       "      <th>6</th>\n",
       "      <td>knn</td>\n",
       "      <td>77.551020</td>\n",
       "    </tr>\n",
       "    <tr>\n",
       "      <th>7</th>\n",
       "      <td>DecisionTreeClassifier</td>\n",
       "      <td>86.394558</td>\n",
       "    </tr>\n",
       "    <tr>\n",
       "      <th>8</th>\n",
       "      <td>svm.SVC_kernel=rbf</td>\n",
       "      <td>92.517007</td>\n",
       "    </tr>\n",
       "    <tr>\n",
       "      <th>9</th>\n",
       "      <td>SVM.NuSVC</td>\n",
       "      <td>75.510204</td>\n",
       "    </tr>\n",
       "    <tr>\n",
       "      <th>10</th>\n",
       "      <td>BaggingClassifier</td>\n",
       "      <td>91.156463</td>\n",
       "    </tr>\n",
       "    <tr>\n",
       "      <th>11</th>\n",
       "      <td>RandomForestClassifier</td>\n",
       "      <td>92.517007</td>\n",
       "    </tr>\n",
       "    <tr>\n",
       "      <th>12</th>\n",
       "      <td>AdaBoostClassifier</td>\n",
       "      <td>92.517007</td>\n",
       "    </tr>\n",
       "  </tbody>\n",
       "</table>\n",
       "</div>"
      ],
      "text/plain": [
       "                      algo  accurency\n",
       "0             ComplementNB  54.421769\n",
       "1            MultinomialNB  54.421769\n",
       "2              BernoulliNB  56.462585\n",
       "3               GaussianNB  63.265306\n",
       "4            CategoricalNB  82.312925\n",
       "5       LogisticRegression  75.510204\n",
       "6                      knn  77.551020\n",
       "7   DecisionTreeClassifier  86.394558\n",
       "8       svm.SVC_kernel=rbf  92.517007\n",
       "9                SVM.NuSVC  75.510204\n",
       "10       BaggingClassifier  91.156463\n",
       "11  RandomForestClassifier  92.517007\n",
       "12      AdaBoostClassifier  92.517007"
      ]
     },
     "execution_count": 78,
     "metadata": {},
     "output_type": "execute_result"
    }
   ],
   "source": [
    "data = {'algo':[ 'ComplementNB','MultinomialNB','BernoulliNB','GaussianNB','CategoricalNB','LogisticRegression',\n",
    "                 'knn','DecisionTreeClassifier','svm.SVC_kernel=rbf','SVM.NuSVC','BaggingClassifier',\n",
    "                 'RandomForestClassifier','AdaBoostClassifier'],\n",
    "        \n",
    "        \n",
    "        'accurency':[ComplementNB_acc*100   , MultinomialNB_acc*100       , BernoulliNB_acc*100  ,  GaussianNB_acc*100 , \n",
    "                     CategoricalNB_acc*100  , LogisticRegression_acc*100  , knn_acc*100          ,  DecisionTreeClassifier_acc*100 , \n",
    "                     svm_rbf_acc*100        , svm_NuSVC_acc*100           , BaggingClassifier_acc*100  , \n",
    "                     RandomForestClassifier_acc*100 , AdaBoostClassifier_acc*100 ,\n",
    "                    ]}\n",
    "\n",
    "\n",
    "\n",
    "df_acc = pd.DataFrame(data=data)\n",
    "df_acc"
   ]
  },
  {
   "cell_type": "code",
   "execution_count": 79,
   "id": "8131aa26-9426-4ba6-8ab3-a461568754b4",
   "metadata": {},
   "outputs": [
    {
     "data": {
      "text/html": [
       "<div>\n",
       "<style scoped>\n",
       "    .dataframe tbody tr th:only-of-type {\n",
       "        vertical-align: middle;\n",
       "    }\n",
       "\n",
       "    .dataframe tbody tr th {\n",
       "        vertical-align: top;\n",
       "    }\n",
       "\n",
       "    .dataframe thead th {\n",
       "        text-align: right;\n",
       "    }\n",
       "</style>\n",
       "<table border=\"1\" class=\"dataframe\">\n",
       "  <thead>\n",
       "    <tr style=\"text-align: right;\">\n",
       "      <th></th>\n",
       "      <th>algo</th>\n",
       "      <th>accurency</th>\n",
       "    </tr>\n",
       "  </thead>\n",
       "  <tbody>\n",
       "    <tr>\n",
       "      <th>0</th>\n",
       "      <td>ComplementNB</td>\n",
       "      <td>54.421769</td>\n",
       "    </tr>\n",
       "    <tr>\n",
       "      <th>1</th>\n",
       "      <td>MultinomialNB</td>\n",
       "      <td>54.421769</td>\n",
       "    </tr>\n",
       "    <tr>\n",
       "      <th>2</th>\n",
       "      <td>BernoulliNB</td>\n",
       "      <td>56.462585</td>\n",
       "    </tr>\n",
       "    <tr>\n",
       "      <th>3</th>\n",
       "      <td>GaussianNB</td>\n",
       "      <td>63.265306</td>\n",
       "    </tr>\n",
       "    <tr>\n",
       "      <th>5</th>\n",
       "      <td>LogisticRegression</td>\n",
       "      <td>75.510204</td>\n",
       "    </tr>\n",
       "    <tr>\n",
       "      <th>9</th>\n",
       "      <td>SVM.NuSVC</td>\n",
       "      <td>75.510204</td>\n",
       "    </tr>\n",
       "    <tr>\n",
       "      <th>6</th>\n",
       "      <td>knn</td>\n",
       "      <td>77.551020</td>\n",
       "    </tr>\n",
       "    <tr>\n",
       "      <th>4</th>\n",
       "      <td>CategoricalNB</td>\n",
       "      <td>82.312925</td>\n",
       "    </tr>\n",
       "    <tr>\n",
       "      <th>7</th>\n",
       "      <td>DecisionTreeClassifier</td>\n",
       "      <td>86.394558</td>\n",
       "    </tr>\n",
       "    <tr>\n",
       "      <th>10</th>\n",
       "      <td>BaggingClassifier</td>\n",
       "      <td>91.156463</td>\n",
       "    </tr>\n",
       "    <tr>\n",
       "      <th>8</th>\n",
       "      <td>svm.SVC_kernel=rbf</td>\n",
       "      <td>92.517007</td>\n",
       "    </tr>\n",
       "    <tr>\n",
       "      <th>11</th>\n",
       "      <td>RandomForestClassifier</td>\n",
       "      <td>92.517007</td>\n",
       "    </tr>\n",
       "    <tr>\n",
       "      <th>12</th>\n",
       "      <td>AdaBoostClassifier</td>\n",
       "      <td>92.517007</td>\n",
       "    </tr>\n",
       "  </tbody>\n",
       "</table>\n",
       "</div>"
      ],
      "text/plain": [
       "                      algo  accurency\n",
       "0             ComplementNB  54.421769\n",
       "1            MultinomialNB  54.421769\n",
       "2              BernoulliNB  56.462585\n",
       "3               GaussianNB  63.265306\n",
       "5       LogisticRegression  75.510204\n",
       "9                SVM.NuSVC  75.510204\n",
       "6                      knn  77.551020\n",
       "4            CategoricalNB  82.312925\n",
       "7   DecisionTreeClassifier  86.394558\n",
       "10       BaggingClassifier  91.156463\n",
       "8       svm.SVC_kernel=rbf  92.517007\n",
       "11  RandomForestClassifier  92.517007\n",
       "12      AdaBoostClassifier  92.517007"
      ]
     },
     "execution_count": 79,
     "metadata": {},
     "output_type": "execute_result"
    }
   ],
   "source": [
    "df_acc=df_acc.sort_values(by=\"accurency\" )\n",
    "df_acc"
   ]
  },
  {
   "cell_type": "code",
   "execution_count": 80,
   "id": "3494f7a7-d9bd-4ea0-9cc7-717ff2fdd2f1",
   "metadata": {},
   "outputs": [
    {
     "data": {
      "text/plain": [
       "(array([ 0,  1,  2,  3,  4,  5,  6,  7,  8,  9, 10, 11, 12]),\n",
       " [Text(0, 0, 'ComplementNB'),\n",
       "  Text(1, 0, 'MultinomialNB'),\n",
       "  Text(2, 0, 'BernoulliNB'),\n",
       "  Text(3, 0, 'GaussianNB'),\n",
       "  Text(4, 0, 'LogisticRegression'),\n",
       "  Text(5, 0, 'SVM.NuSVC'),\n",
       "  Text(6, 0, 'knn'),\n",
       "  Text(7, 0, 'CategoricalNB'),\n",
       "  Text(8, 0, 'DecisionTreeClassifier'),\n",
       "  Text(9, 0, 'BaggingClassifier'),\n",
       "  Text(10, 0, 'svm.SVC_kernel=rbf'),\n",
       "  Text(11, 0, 'RandomForestClassifier'),\n",
       "  Text(12, 0, 'AdaBoostClassifier')])"
      ]
     },
     "execution_count": 80,
     "metadata": {},
     "output_type": "execute_result"
    },
    {
     "data": {
      "image/png": "[encoded data removed]",
      "text/plain": [
       "<Figure size 432x288 with 1 Axes>"
      ]
     },
     "metadata": {
      "needs_background": "light"
     },
     "output_type": "display_data"
    }
   ],
   "source": [
    "df_acc.plot(x=\"algo\" ,kind='bar')\n",
    " \n",
    "# labels for x & y axis\n",
    "plt.xlabel('algorithme')\n",
    "plt.ylabel('accurency')\n",
    " \n",
    "# title of plot\n",
    "plt.title('the accurency of algorithm')\n",
    "plt.xticks(rotation=90)"
   ]
  },
  {
   "cell_type": "code",
   "execution_count": null,
   "id": "5f5cab88-0a2e-4cc8-822e-c9b198585a93",
   "metadata": {},
   "outputs": [],
   "source": []
  },
  {
   "cell_type": "code",
   "execution_count": null,
   "id": "280b94e0-1191-4bce-9a13-85d9d2dabdac",
   "metadata": {},
   "outputs": [],
   "source": []
  },
  {
   "cell_type": "code",
   "execution_count": 81,
   "id": "fe1bdeac-3be3-48e7-acfd-33783e4860ea",
   "metadata": {},
   "outputs": [
    {
     "data": {
      "text/html": [
       "<div>\n",
       "<style scoped>\n",
       "    .dataframe tbody tr th:only-of-type {\n",
       "        vertical-align: middle;\n",
       "    }\n",
       "\n",
       "    .dataframe tbody tr th {\n",
       "        vertical-align: top;\n",
       "    }\n",
       "\n",
       "    .dataframe thead th {\n",
       "        text-align: right;\n",
       "    }\n",
       "</style>\n",
       "<table border=\"1\" class=\"dataframe\">\n",
       "  <thead>\n",
       "    <tr style=\"text-align: right;\">\n",
       "      <th></th>\n",
       "      <th>algo</th>\n",
       "      <th>accurency</th>\n",
       "      <th>percision</th>\n",
       "      <th>recall</th>\n",
       "      <th>f1_score</th>\n",
       "      <th>true_positif</th>\n",
       "      <th>false_negatif</th>\n",
       "      <th>false_positif</th>\n",
       "      <th>true_negatif</th>\n",
       "    </tr>\n",
       "  </thead>\n",
       "  <tbody>\n",
       "    <tr>\n",
       "      <th>0</th>\n",
       "      <td>ComplementNB</td>\n",
       "      <td>54.421769</td>\n",
       "      <td>67.012032</td>\n",
       "      <td>54.711218</td>\n",
       "      <td>44.559527</td>\n",
       "      <td>71</td>\n",
       "      <td>2</td>\n",
       "      <td>65</td>\n",
       "      <td>9</td>\n",
       "    </tr>\n",
       "    <tr>\n",
       "      <th>1</th>\n",
       "      <td>MultinomialNB</td>\n",
       "      <td>54.421769</td>\n",
       "      <td>67.012032</td>\n",
       "      <td>54.711218</td>\n",
       "      <td>44.559527</td>\n",
       "      <td>71</td>\n",
       "      <td>2</td>\n",
       "      <td>65</td>\n",
       "      <td>9</td>\n",
       "    </tr>\n",
       "    <tr>\n",
       "      <th>2</th>\n",
       "      <td>BernoulliNB</td>\n",
       "      <td>56.462585</td>\n",
       "      <td>72.500000</td>\n",
       "      <td>56.747501</td>\n",
       "      <td>47.406082</td>\n",
       "      <td>72</td>\n",
       "      <td>1</td>\n",
       "      <td>63</td>\n",
       "      <td>11</td>\n",
       "    </tr>\n",
       "    <tr>\n",
       "      <th>3</th>\n",
       "      <td>GaussianNB</td>\n",
       "      <td>63.265306</td>\n",
       "      <td>64.896907</td>\n",
       "      <td>63.374676</td>\n",
       "      <td>62.343454</td>\n",
       "      <td>58</td>\n",
       "      <td>15</td>\n",
       "      <td>39</td>\n",
       "      <td>35</td>\n",
       "    </tr>\n",
       "    <tr>\n",
       "      <th>4</th>\n",
       "      <td>CategoricalNB</td>\n",
       "      <td>82.312925</td>\n",
       "      <td>82.687991</td>\n",
       "      <td>82.349130</td>\n",
       "      <td>82.272727</td>\n",
       "      <td>64</td>\n",
       "      <td>9</td>\n",
       "      <td>17</td>\n",
       "      <td>57</td>\n",
       "    </tr>\n",
       "    <tr>\n",
       "      <th>5</th>\n",
       "      <td>LogisticRegression</td>\n",
       "      <td>75.510204</td>\n",
       "      <td>75.816135</td>\n",
       "      <td>75.472047</td>\n",
       "      <td>75.418060</td>\n",
       "      <td>51</td>\n",
       "      <td>22</td>\n",
       "      <td>14</td>\n",
       "      <td>60</td>\n",
       "    </tr>\n",
       "    <tr>\n",
       "      <th>6</th>\n",
       "      <td>knn</td>\n",
       "      <td>77.551020</td>\n",
       "      <td>77.675585</td>\n",
       "      <td>77.573121</td>\n",
       "      <td>77.534386</td>\n",
       "      <td>59</td>\n",
       "      <td>14</td>\n",
       "      <td>19</td>\n",
       "      <td>55</td>\n",
       "    </tr>\n",
       "    <tr>\n",
       "      <th>7</th>\n",
       "      <td>DecisionTreeClassifier</td>\n",
       "      <td>86.394558</td>\n",
       "      <td>86.393928</td>\n",
       "      <td>86.393928</td>\n",
       "      <td>86.393928</td>\n",
       "      <td>63</td>\n",
       "      <td>10</td>\n",
       "      <td>10</td>\n",
       "      <td>64</td>\n",
       "    </tr>\n",
       "    <tr>\n",
       "      <th>8</th>\n",
       "      <td>svm.SVC_kernel=rbf</td>\n",
       "      <td>92.517007</td>\n",
       "      <td>92.527778</td>\n",
       "      <td>92.512033</td>\n",
       "      <td>92.515621</td>\n",
       "      <td>67</td>\n",
       "      <td>6</td>\n",
       "      <td>5</td>\n",
       "      <td>69</td>\n",
       "    </tr>\n",
       "    <tr>\n",
       "      <th>9</th>\n",
       "      <td>SVM.NuSVC</td>\n",
       "      <td>75.510204</td>\n",
       "      <td>81.523240</td>\n",
       "      <td>75.360977</td>\n",
       "      <td>74.210526</td>\n",
       "      <td>39</td>\n",
       "      <td>34</td>\n",
       "      <td>2</td>\n",
       "      <td>72</td>\n",
       "    </tr>\n",
       "    <tr>\n",
       "      <th>10</th>\n",
       "      <td>BaggingClassifier</td>\n",
       "      <td>91.156463</td>\n",
       "      <td>91.160681</td>\n",
       "      <td>91.160681</td>\n",
       "      <td>91.156463</td>\n",
       "      <td>67</td>\n",
       "      <td>6</td>\n",
       "      <td>7</td>\n",
       "      <td>67</td>\n",
       "    </tr>\n",
       "    <tr>\n",
       "      <th>11</th>\n",
       "      <td>RandomForestClassifier</td>\n",
       "      <td>92.517007</td>\n",
       "      <td>92.597403</td>\n",
       "      <td>92.502777</td>\n",
       "      <td>92.511462</td>\n",
       "      <td>66</td>\n",
       "      <td>7</td>\n",
       "      <td>4</td>\n",
       "      <td>70</td>\n",
       "    </tr>\n",
       "    <tr>\n",
       "      <th>12</th>\n",
       "      <td>AdaBoostClassifier</td>\n",
       "      <td>92.517007</td>\n",
       "      <td>92.527778</td>\n",
       "      <td>92.512033</td>\n",
       "      <td>92.515621</td>\n",
       "      <td>67</td>\n",
       "      <td>6</td>\n",
       "      <td>5</td>\n",
       "      <td>69</td>\n",
       "    </tr>\n",
       "  </tbody>\n",
       "</table>\n",
       "</div>"
      ],
      "text/plain": [
       "                      algo  accurency  percision     recall   f1_score  \\\n",
       "0             ComplementNB  54.421769  67.012032  54.711218  44.559527   \n",
       "1            MultinomialNB  54.421769  67.012032  54.711218  44.559527   \n",
       "2              BernoulliNB  56.462585  72.500000  56.747501  47.406082   \n",
       "3               GaussianNB  63.265306  64.896907  63.374676  62.343454   \n",
       "4            CategoricalNB  82.312925  82.687991  82.349130  82.272727   \n",
       "5       LogisticRegression  75.510204  75.816135  75.472047  75.418060   \n",
       "6                      knn  77.551020  77.675585  77.573121  77.534386   \n",
       "7   DecisionTreeClassifier  86.394558  86.393928  86.393928  86.393928   \n",
       "8       svm.SVC_kernel=rbf  92.517007  92.527778  92.512033  92.515621   \n",
       "9                SVM.NuSVC  75.510204  81.523240  75.360977  74.210526   \n",
       "10       BaggingClassifier  91.156463  91.160681  91.160681  91.156463   \n",
       "11  RandomForestClassifier  92.517007  92.597403  92.502777  92.511462   \n",
       "12      AdaBoostClassifier  92.517007  92.527778  92.512033  92.515621   \n",
       "\n",
       "    true_positif  false_negatif  false_positif  true_negatif  \n",
       "0             71              2             65             9  \n",
       "1             71              2             65             9  \n",
       "2             72              1             63            11  \n",
       "3             58             15             39            35  \n",
       "4             64              9             17            57  \n",
       "5             51             22             14            60  \n",
       "6             59             14             19            55  \n",
       "7             63             10             10            64  \n",
       "8             67              6              5            69  \n",
       "9             39             34              2            72  \n",
       "10            67              6              7            67  \n",
       "11            66              7              4            70  \n",
       "12            67              6              5            69  "
      ]
     },
     "execution_count": 81,
     "metadata": {},
     "output_type": "execute_result"
    }
   ],
   "source": [
    "ar_diagrame =  {\n",
    "           'algo'          : [ 'ComplementNB','MultinomialNB','BernoulliNB','GaussianNB','CategoricalNB','LogisticRegression',\n",
    "                               'knn','DecisionTreeClassifier','svm.SVC_kernel=rbf','SVM.NuSVC','BaggingClassifier',\n",
    "                               'RandomForestClassifier','AdaBoostClassifier'],\n",
    "        \n",
    "        \n",
    "           'accurency'     : [ComplementNB_acc*100   , MultinomialNB_acc*100       , BernoulliNB_acc*100  ,  GaussianNB_acc*100 , \n",
    "                              CategoricalNB_acc*100  , LogisticRegression_acc*100  , knn_acc*100          ,  DecisionTreeClassifier_acc*100 , \n",
    "                              svm_rbf_acc*100        , svm_NuSVC_acc*100           , BaggingClassifier_acc*100  , \n",
    "                              RandomForestClassifier_acc*100 , AdaBoostClassifier_acc*100  ],\n",
    "    \n",
    "    \n",
    "            'percision'     : [ ComplementNB_array[0]*100  ,  MultinomialNB_array[0]*100          , BernoulliNB_array[0]*100 ,\n",
    "                                GaussianNB_array[0]*100    ,  CategoricalNB_array[0]*100          , LogisticRegression_array[0]*100 , \n",
    "                                knn_array[0]*100           ,  DecisionTreeClassifier_array[0]*100 , svm_rbf_array[0]*100 ,\n",
    "                                svm_NuSVC_array[0]*100     ,  BaggingClassifier_array[0]*100      , RandomForestClassifier_array[0]*100 ,\n",
    "                                AdaBoostClassifier_array[0]*100  ],\n",
    "    \n",
    "            'recall'         : [ ComplementNB_array[1]*100  ,  MultinomialNB_array[1]*100          , BernoulliNB_array[1]*100 ,\n",
    "                                GaussianNB_array[1]*100    ,  CategoricalNB_array[1]*100          , LogisticRegression_array[1]*100 , \n",
    "                                knn_array[1]*100           ,  DecisionTreeClassifier_array[1]*100 , svm_rbf_array[1]*100 ,\n",
    "                                svm_NuSVC_array[1]*100     ,  BaggingClassifier_array[1]*100      , RandomForestClassifier_array[1]*100 ,\n",
    "                                AdaBoostClassifier_array[1]*100  ],\n",
    "    \n",
    "            'f1_score'       : [ComplementNB_array[2]*100  ,  MultinomialNB_array[2]*100          , BernoulliNB_array[2]*100 ,\n",
    "                                GaussianNB_array[2]*100    ,  CategoricalNB_array[2]*100          , LogisticRegression_array[2]*100 , \n",
    "                                knn_array[2]*100           ,  DecisionTreeClassifier_array[2]*100 , svm_rbf_array[2]*100 ,\n",
    "                                svm_NuSVC_array[2]*100     ,  BaggingClassifier_array[2]*100      , RandomForestClassifier_array[2]*100 ,\n",
    "                                AdaBoostClassifier_array[2]*100  ],\n",
    "    \n",
    "    \n",
    "            'true_positif'   : [ ComplementNB_cm[0,0]  ,  MultinomialNB_cm[0,0]         , BernoulliNB_cm[0,0] ,\n",
    "                                 GaussianNB_cm[0,0]    ,  CategoricalNB_cm[0,0]         , LogisticRegression_cm[0,0] , \n",
    "                                 knn_cm[0,0]          ,  DecisionTreeClassifier_cm[0,0] , svm_rbf_cm[0,0] ,\n",
    "                                 svm_NuSVC_cm[0,0]     ,  BaggingClassifier_cm[0,0]      , RandomForestClassifier_cm[0,0] ,\n",
    "                                 AdaBoostClassifier_cm[0,0]   ],\n",
    "    \n",
    "            'false_negatif'   : [ ComplementNB_cm[0,1]     ,  MultinomialNB_cm[0,1]          , BernoulliNB_cm[0,1] ,\n",
    "                                 GaussianNB_cm[0,1]        ,  CategoricalNB_cm[0,1]          , LogisticRegression_cm[0,1] , \n",
    "                                 knn_cm[0,1]               ,  DecisionTreeClassifier_cm[0,1] , svm_rbf_cm[0,1] ,\n",
    "                                 svm_NuSVC_cm[0,1]         ,  BaggingClassifier_cm[0,1]      , RandomForestClassifier_cm[0,1] ,\n",
    "                                 AdaBoostClassifier_cm[0,1]    ],\n",
    "    \n",
    "    \n",
    "            'false_positif'   : [ ComplementNB_cm[1,0]      ,  MultinomialNB_cm[1,0]           , BernoulliNB_cm[1,0] ,\n",
    "                                 GaussianNB_cm[1,0]         ,  CategoricalNB_cm[1,0]           , LogisticRegression_cm[1,0] , \n",
    "                                 knn_cm[1,0]                ,  DecisionTreeClassifier_cm[1,0]  , svm_rbf_cm[1,0] ,\n",
    "                                 svm_NuSVC_cm[1,0]          ,  BaggingClassifier_cm[1,0]       , RandomForestClassifier_cm[1,0] ,\n",
    "                                 AdaBoostClassifier_cm[1,0]   ],\n",
    "                                 \n",
    "                                 \n",
    "            'true_negatif'   : [ ComplementNB_cm[1,1]      ,  MultinomialNB_cm[1,1]          , BernoulliNB_cm[1,1] ,\n",
    "                                 GaussianNB_cm[1,1]        ,  CategoricalNB_cm[1,1]          , LogisticRegression_cm[1,1] , \n",
    "                                 knn_cm[1,1]               ,  DecisionTreeClassifier_cm[1,1] , svm_rbf_cm[1,1] ,\n",
    "                                 svm_NuSVC_cm[1,1]         ,  BaggingClassifier_cm[1,1]      , RandomForestClassifier_cm[1,1] ,\n",
    "                                 AdaBoostClassifier_cm[1,1]     ]\n",
    "    \n",
    "         \n",
    "          }\n",
    "diag_all_ar= pd.DataFrame(ar_diagrame)\n",
    "diag_all_ar"
   ]
  },
  {
   "cell_type": "code",
   "execution_count": 82,
   "id": "f9139983-e81c-4a3d-b4e2-25643dd65121",
   "metadata": {},
   "outputs": [],
   "source": [
    "#diag_all_ar.to_csv(\"result.csv\" ,index=False)"
   ]
  },
  {
   "cell_type": "code",
   "execution_count": 83,
   "id": "ffc2bd7c-ff4a-42b2-aec9-9f2b4d0cc88d",
   "metadata": {},
   "outputs": [
    {
     "data": {
      "text/plain": [
       "(array([ 0,  1,  2,  3,  4,  5,  6,  7,  8,  9, 10, 11, 12]),\n",
       " [Text(0, 0, 'ComplementNB'),\n",
       "  Text(1, 0, 'MultinomialNB'),\n",
       "  Text(2, 0, 'BernoulliNB'),\n",
       "  Text(3, 0, 'GaussianNB'),\n",
       "  Text(4, 0, 'CategoricalNB'),\n",
       "  Text(5, 0, 'LogisticRegression'),\n",
       "  Text(6, 0, 'knn'),\n",
       "  Text(7, 0, 'DecisionTreeClassifier'),\n",
       "  Text(8, 0, 'svm.SVC_kernel=rbf'),\n",
       "  Text(9, 0, 'SVM.NuSVC'),\n",
       "  Text(10, 0, 'BaggingClassifier'),\n",
       "  Text(11, 0, 'RandomForestClassifier'),\n",
       "  Text(12, 0, 'AdaBoostClassifier')])"
      ]
     },
     "execution_count": 83,
     "metadata": {},
     "output_type": "execute_result"
    },
    {
     "data": {
      "image/png": "[encoded data removed]",
      "text/plain": [
       "<Figure size 432x288 with 1 Axes>"
      ]
     },
     "metadata": {
      "needs_background": "light"
     },
     "output_type": "display_data"
    }
   ],
   "source": [
    "diag_all_ar.plot(x=\"algo\",y=\"percision\" ,kind='bar',color=\"green\")\n",
    " \n",
    "# labels for x & y axis\n",
    "plt.xlabel('algorithme')\n",
    "plt.ylabel('precision')\n",
    " \n",
    "\n",
    "# title of plot\n",
    "plt.title('the average of precision')\n",
    "plt.xticks(rotation=90)"
   ]
  },
  {
   "cell_type": "code",
   "execution_count": null,
   "id": "de133957-7235-4032-adad-2f8341f47617",
   "metadata": {},
   "outputs": [],
   "source": []
  },
  {
   "cell_type": "code",
   "execution_count": 84,
   "id": "4bb51528-4e6f-4537-800e-ac4b19b7d89f",
   "metadata": {},
   "outputs": [
    {
     "data": {
      "text/plain": [
       "(array([ 0,  1,  2,  3,  4,  5,  6,  7,  8,  9, 10, 11, 12]),\n",
       " [Text(0, 0, 'ComplementNB'),\n",
       "  Text(1, 0, 'MultinomialNB'),\n",
       "  Text(2, 0, 'BernoulliNB'),\n",
       "  Text(3, 0, 'GaussianNB'),\n",
       "  Text(4, 0, 'CategoricalNB'),\n",
       "  Text(5, 0, 'LogisticRegression'),\n",
       "  Text(6, 0, 'knn'),\n",
       "  Text(7, 0, 'DecisionTreeClassifier'),\n",
       "  Text(8, 0, 'svm.SVC_kernel=rbf'),\n",
       "  Text(9, 0, 'SVM.NuSVC'),\n",
       "  Text(10, 0, 'BaggingClassifier'),\n",
       "  Text(11, 0, 'RandomForestClassifier'),\n",
       "  Text(12, 0, 'AdaBoostClassifier')])"
      ]
     },
     "execution_count": 84,
     "metadata": {},
     "output_type": "execute_result"
    },
    {
     "data": {
      "image/png": "[encoded data removed]",
      "text/plain": [
       "<Figure size 432x288 with 1 Axes>"
      ]
     },
     "metadata": {
      "needs_background": "light"
     },
     "output_type": "display_data"
    }
   ],
   "source": [
    "diag_all_ar.plot(x=\"algo\",y=\"recall\" ,kind='bar',color=\"green\")\n",
    " \n",
    "# labels for x & y axis\n",
    "plt.xlabel('algorithme')\n",
    "plt.ylabel('recall')\n",
    " \n",
    "\n",
    "# title of plot\n",
    "plt.title('the average of recall')\n",
    "plt.xticks(rotation=90)"
   ]
  },
  {
   "cell_type": "code",
   "execution_count": 85,
   "id": "a12b186f-467c-402b-89a2-8e6a38598195",
   "metadata": {},
   "outputs": [
    {
     "data": {
      "text/plain": [
       "(array([ 0,  1,  2,  3,  4,  5,  6,  7,  8,  9, 10, 11, 12]),\n",
       " [Text(0, 0, 'ComplementNB'),\n",
       "  Text(1, 0, 'MultinomialNB'),\n",
       "  Text(2, 0, 'BernoulliNB'),\n",
       "  Text(3, 0, 'GaussianNB'),\n",
       "  Text(4, 0, 'CategoricalNB'),\n",
       "  Text(5, 0, 'LogisticRegression'),\n",
       "  Text(6, 0, 'knn'),\n",
       "  Text(7, 0, 'DecisionTreeClassifier'),\n",
       "  Text(8, 0, 'svm.SVC_kernel=rbf'),\n",
       "  Text(9, 0, 'SVM.NuSVC'),\n",
       "  Text(10, 0, 'BaggingClassifier'),\n",
       "  Text(11, 0, 'RandomForestClassifier'),\n",
       "  Text(12, 0, 'AdaBoostClassifier')])"
      ]
     },
     "execution_count": 85,
     "metadata": {},
     "output_type": "execute_result"
    },
    {
     "data": {
      "image/png": "[encoded data removed]",
      "text/plain": [
       "<Figure size 432x288 with 1 Axes>"
      ]
     },
     "metadata": {
      "needs_background": "light"
     },
     "output_type": "display_data"
    }
   ],
   "source": [
    "diag_all_ar.plot(x=\"algo\",y=\"f1_score\" ,kind='bar',color=\"green\")\n",
    " \n",
    "# labels for x & y axis\n",
    "plt.xlabel('algorithme')\n",
    "plt.ylabel('f1_score')\n",
    " \n",
    "\n",
    "# title of plot\n",
    "plt.title('the average of f1 score')\n",
    "plt.xticks(rotation=90)"
   ]
  },
  {
   "cell_type": "code",
   "execution_count": null,
   "id": "3603aba7-3e6e-4dce-a718-4e5ac9df237b",
   "metadata": {},
   "outputs": [],
   "source": []
  },
  {
   "cell_type": "code",
   "execution_count": null,
   "id": "7b35cb9d-f260-4237-9869-2599495c44af",
   "metadata": {},
   "outputs": [],
   "source": []
  },
  {
   "cell_type": "code",
   "execution_count": null,
   "id": "26f64ef1-acbc-4e2f-a6a3-c15a38f51c81",
   "metadata": {},
   "outputs": [],
   "source": []
  }
 ],
 "metadata": {
  "kernelspec": {
   "display_name": "Python 3 (ipykernel)",
   "language": "python",
   "name": "python3"
  },
  "language_info": {
   "codemirror_mode": {
    "name": "ipython",
    "version": 3
   },
   "file_extension": ".py",
   "mimetype": "text/x-python",
   "name": "python",
   "nbconvert_exporter": "python",
   "pygments_lexer": "ipython3",
   "version": "3.9.7"
  }
 },
 "nbformat": 4,
 "nbformat_minor": 5
}
