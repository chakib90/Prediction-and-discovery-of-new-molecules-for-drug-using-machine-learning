{
 "cells": [
  {
   "cell_type": "markdown",
   "id": "465735be-8894-47ed-bba8-e35de2d549cf",
   "metadata": {},
   "source": [
    "<h1>importer la bibiliotéques</h1>"
   ]
  },
  {
   "cell_type": "code",
   "execution_count": 1,
   "id": "1af5c5c5-b626-42e8-b140-b7fe9242bf01",
   "metadata": {},
   "outputs": [],
   "source": [
    "import pandas as pd"
   ]
  },
  {
   "cell_type": "markdown",
   "id": "9657daed-876b-4887-8d77-96aba157be91",
   "metadata": {},
   "source": [
    "<h1>importer le dataset</h1>"
   ]
  },
  {
   "cell_type": "code",
   "execution_count": 2,
   "id": "0d5c26d6-e1c0-4f2a-9ad7-a897e65bbd99",
   "metadata": {},
   "outputs": [
    {
     "data": {
      "text/plain": [
       "(7287, 45)"
      ]
     },
     "execution_count": 2,
     "metadata": {},
     "output_type": "execute_result"
    }
   ],
   "source": [
    "data=pd.read_csv(\"2_dataset_activities_all.csv\",  delimiter=';')\n",
    "data.shape"
   ]
  },
  {
   "cell_type": "code",
   "execution_count": 3,
   "id": "8282a94c-fcde-4240-8e1b-e2959878dc16",
   "metadata": {},
   "outputs": [
    {
     "data": {
      "text/plain": [
       "83405"
      ]
     },
     "execution_count": 3,
     "metadata": {},
     "output_type": "execute_result"
    }
   ],
   "source": [
    "data.isnull().sum().sum()"
   ]
  },
  {
   "cell_type": "code",
   "execution_count": 4,
   "id": "5ea6f00e-ad81-4c7c-aa5d-3e47715fe4c0",
   "metadata": {},
   "outputs": [
    {
     "data": {
      "text/plain": [
       "Molecule ChEMBL ID             object\n",
       "Molecule Name                  object\n",
       "Molecule Max Phase              int64\n",
       "Molecular Weight              float64\n",
       "#RO5 Violations                object\n",
       "AlogP                          object\n",
       "Compound Key                   object\n",
       "Smiles                         object\n",
       "Standard Type                  object\n",
       "Standard Relation              object\n",
       "Standard Value                float64\n",
       "Standard Units                 object\n",
       "pChEMBL Value                 float64\n",
       "Data Validity Comment          object\n",
       "Comment                        object\n",
       "Uo Units                       object\n",
       "Ligand Efficiency BEI         float64\n",
       "Ligand Efficiency LE           object\n",
       "Ligand Efficiency LLE          object\n",
       "Ligand Efficiency SEI          object\n",
       "Potential Duplicate              bool\n",
       "Assay ChEMBL ID                object\n",
       "Assay Description              object\n",
       "Assay Type                     object\n",
       "BAO Format ID                  object\n",
       "BAO Label                      object\n",
       "Assay Organism                 object\n",
       "Assay Tissue ChEMBL ID         object\n",
       "Assay Tissue Name              object\n",
       "Assay Cell Type                object\n",
       "Assay Subcellular Fraction     object\n",
       "Assay Parameters               object\n",
       "Assay Variant Accession        object\n",
       "Assay Variant Mutation         object\n",
       "Target ChEMBL ID               object\n",
       "Target Name                    object\n",
       "Target Organism                object\n",
       "Target Type                    object\n",
       "Document ChEMBL ID             object\n",
       "Source ID                       int64\n",
       "Source Description             object\n",
       "Document Journal               object\n",
       "Document Year                 float64\n",
       "Cell ChEMBL ID                 object\n",
       "Properties                     object\n",
       "dtype: object"
      ]
     },
     "execution_count": 4,
     "metadata": {},
     "output_type": "execute_result"
    }
   ],
   "source": [
    "data.dtypes"
   ]
  },
  {
   "cell_type": "markdown",
   "id": "e0537a9c-a15d-4f11-baa1-e20bed12b4a9",
   "metadata": {},
   "source": [
    "<h1>Normalisation</h1>"
   ]
  },
  {
   "cell_type": "code",
   "execution_count": 5,
   "id": "ac08e15d-f0f3-4bcf-b9b3-e2ca9064f8e1",
   "metadata": {},
   "outputs": [],
   "source": [
    "data=data.rename(columns = {'Molecule ChEMBL ID':'Molecule_ChEMBL_ID','Standard Type':'Standard_Type','Standard Value':'Standard_Value'})"
   ]
  },
  {
   "cell_type": "markdown",
   "id": "2404239f-9f8a-44a0-a820-5abbf4a5bd41",
   "metadata": {},
   "source": [
    "<h1>Choise de bioactivités IC50</h1>"
   ]
  },
  {
   "cell_type": "code",
   "execution_count": 6,
   "id": "4f155c58-8ab3-4102-951f-dea4626b0e42",
   "metadata": {},
   "outputs": [
    {
     "data": {
      "text/plain": [
       "(1272, 45)"
      ]
     },
     "execution_count": 6,
     "metadata": {},
     "output_type": "execute_result"
    }
   ],
   "source": [
    "ic50_data=data.query('Standard_Type == \"IC50\" ')\n",
    "ic50_data.shape"
   ]
  },
  {
   "cell_type": "markdown",
   "id": "6c7e5865-a8c7-4dd8-b9e0-70938548ce94",
   "metadata": {},
   "source": [
    "<h1>Drop unused colomns </h1>"
   ]
  },
  {
   "cell_type": "code",
   "execution_count": 8,
   "id": "02c2861b-1138-4cd4-ba64-878e881eb6a9",
   "metadata": {},
   "outputs": [
    {
     "data": {
      "text/html": [
       "<div>\n",
       "<style scoped>\n",
       "    .dataframe tbody tr th:only-of-type {\n",
       "        vertical-align: middle;\n",
       "    }\n",
       "\n",
       "    .dataframe tbody tr th {\n",
       "        vertical-align: top;\n",
       "    }\n",
       "\n",
       "    .dataframe thead th {\n",
       "        text-align: right;\n",
       "    }\n",
       "</style>\n",
       "<table border=\"1\" class=\"dataframe\">\n",
       "  <thead>\n",
       "    <tr style=\"text-align: right;\">\n",
       "      <th></th>\n",
       "      <th>Molecule_ChEMBL_ID</th>\n",
       "      <th>Standard_Value</th>\n",
       "      <th>Smiles</th>\n",
       "    </tr>\n",
       "  </thead>\n",
       "  <tbody>\n",
       "    <tr>\n",
       "      <th>6</th>\n",
       "      <td>CHEMBL3667025</td>\n",
       "      <td>650.0</td>\n",
       "      <td>CC(C)(C)OC(=O)CCC(C(=O)/C=C/c1ccc(O)c(OC(F)(F)...</td>\n",
       "    </tr>\n",
       "    <tr>\n",
       "      <th>12</th>\n",
       "      <td>CHEMBL3672702</td>\n",
       "      <td>16.0</td>\n",
       "      <td>CC[C@@H](C)Oc1ccc2c(c1)C1(N=C(C)C(N)=N1)[C@]1(...</td>\n",
       "    </tr>\n",
       "    <tr>\n",
       "      <th>13</th>\n",
       "      <td>CHEMBL3672732</td>\n",
       "      <td>4.5</td>\n",
       "      <td>CO[C@H]1CC[C@]2(CCc3ccc(-c4cc(Cl)cc(C#N)c4)cc3...</td>\n",
       "    </tr>\n",
       "    <tr>\n",
       "      <th>18</th>\n",
       "      <td>CHEMBL3901022</td>\n",
       "      <td>5400.0</td>\n",
       "      <td>COc1cc(OCc2ccccc2)ccc1/C=C/C(=O)CC(=O)/C=C/c1c...</td>\n",
       "    </tr>\n",
       "    <tr>\n",
       "      <th>22</th>\n",
       "      <td>CHEMBL3892054</td>\n",
       "      <td>2200.0</td>\n",
       "      <td>COc1cc(/C=C/C(=O)CC(=O)/C=C/c2ccccc2)ccc1O</td>\n",
       "    </tr>\n",
       "  </tbody>\n",
       "</table>\n",
       "</div>"
      ],
      "text/plain": [
       "   Molecule_ChEMBL_ID  Standard_Value  \\\n",
       "6       CHEMBL3667025           650.0   \n",
       "12      CHEMBL3672702            16.0   \n",
       "13      CHEMBL3672732             4.5   \n",
       "18      CHEMBL3901022          5400.0   \n",
       "22      CHEMBL3892054          2200.0   \n",
       "\n",
       "                                               Smiles  \n",
       "6   CC(C)(C)OC(=O)CCC(C(=O)/C=C/c1ccc(O)c(OC(F)(F)...  \n",
       "12  CC[C@@H](C)Oc1ccc2c(c1)C1(N=C(C)C(N)=N1)[C@]1(...  \n",
       "13  CO[C@H]1CC[C@]2(CCc3ccc(-c4cc(Cl)cc(C#N)c4)cc3...  \n",
       "18  COc1cc(OCc2ccccc2)ccc1/C=C/C(=O)CC(=O)/C=C/c1c...  \n",
       "22         COc1cc(/C=C/C(=O)CC(=O)/C=C/c2ccccc2)ccc1O  "
      ]
     },
     "execution_count": 8,
     "metadata": {},
     "output_type": "execute_result"
    }
   ],
   "source": [
    "ic50_drop_column=ic50_data[['Molecule_ChEMBL_ID','Standard_Value','Smiles']]\n",
    "ic50_drop_column.head()"
   ]
  },
  {
   "cell_type": "code",
   "execution_count": 9,
   "id": "4f6a877b-0ce3-494f-a1a5-c010c5b9be79",
   "metadata": {},
   "outputs": [],
   "source": []
  },
  {
   "cell_type": "markdown",
   "id": "f1836d45-c4a0-49b2-a885-9e0431888088",
   "metadata": {
    "tags": []
   },
   "source": [
    "<h1>Gérer les valeurs manquantes </h1>"
   ]
  },
  {
   "cell_type": "code",
   "execution_count": null,
   "id": "d477dd30-84b6-4873-98b0-85118fd63f19",
   "metadata": {},
   "outputs": [
    {
     "data": {
      "text/plain": [
       "130"
      ]
     },
     "execution_count": 7,
     "metadata": {},
     "output_type": "execute_result"
    }
   ],
   "source": [
    "ic50_data['Standard_Value'].isnull().sum()"
   ]
  },
  {
   "cell_type": "code",
   "execution_count": 10,
   "id": "d2844706-260d-4f24-9318-fd2787ba8568",
   "metadata": {},
   "outputs": [],
   "source": [
    "ic50_drop_column=ic50_drop_column.sort_values(by=\"Standard_Value\" )\n",
    "index_with_nan = ic50_drop_column.index[ic50_drop_column.iloc[:,1].isnull()]"
   ]
  },
  {
   "cell_type": "code",
   "execution_count": 11,
   "id": "90866770-7384-4638-a642-ad7e1b6d8e8d",
   "metadata": {},
   "outputs": [
    {
     "name": "stderr",
     "output_type": "stream",
     "text": [
      "C:\\Users\\NEONTECH\\AppData\\Local\\Temp/ipykernel_12608/3926152671.py:1: FutureWarning: In a future version of pandas all arguments of DataFrame.drop except for the argument 'labels' will be keyword-only\n",
      "  ic50_data_notnull=ic50_drop_column.drop(index_with_nan,0)\n"
     ]
    },
    {
     "data": {
      "text/plain": [
       "(1142, 3)"
      ]
     },
     "execution_count": 11,
     "metadata": {},
     "output_type": "execute_result"
    }
   ],
   "source": [
    "ic50_data_notnull=ic50_drop_column.drop(index_with_nan,0)\n",
    "ic50_data_notnull.shape"
   ]
  },
  {
   "cell_type": "code",
   "execution_count": 12,
   "id": "9b0c5dcd-a9d3-4017-b32a-f734486e057b",
   "metadata": {},
   "outputs": [
    {
     "data": {
      "text/plain": [
       "0"
      ]
     },
     "execution_count": 12,
     "metadata": {},
     "output_type": "execute_result"
    }
   ],
   "source": [
    "ic50_data_notnull['Standard_Value'].isnull().sum()"
   ]
  },
  {
   "cell_type": "markdown",
   "id": "3a76684e-9a38-4bd8-9126-5fcdad198e55",
   "metadata": {},
   "source": [
    "<h1>Gérer les données du bruit</h1>"
   ]
  },
  {
   "cell_type": "code",
   "execution_count": 13,
   "id": "1507c414-c835-45b2-8a86-dfd1e99cab71",
   "metadata": {},
   "outputs": [
    {
     "data": {
      "text/plain": [
       "(2, 3)"
      ]
     },
     "execution_count": 13,
     "metadata": {},
     "output_type": "execute_result"
    }
   ],
   "source": [
    "negatif_values=ic50_data_notnull.query('Standard_Value <= 0 ')\n",
    "negatif_values.shape"
   ]
  },
  {
   "cell_type": "code",
   "execution_count": 14,
   "id": "b5695221-3a83-40af-8d9e-eafbbbdc965b",
   "metadata": {},
   "outputs": [
    {
     "data": {
      "text/plain": [
       "(1140, 3)"
      ]
     },
     "execution_count": 14,
     "metadata": {},
     "output_type": "execute_result"
    }
   ],
   "source": [
    "ic50_notnull_positive=ic50_data_notnull[ic50_data_notnull.Standard_Value>0]\n",
    "ic50_notnull_positive.shape"
   ]
  },
  {
   "cell_type": "markdown",
   "id": "246f4784-1a03-4243-a78d-81d662c20e4a",
   "metadata": {},
   "source": [
    "<h1>supprimer les lignes dupliquées </h1>"
   ]
  },
  {
   "cell_type": "code",
   "execution_count": 15,
   "id": "78474eec-ad84-40fa-8f9f-7505e9c79bfb",
   "metadata": {},
   "outputs": [
    {
     "data": {
      "text/plain": [
       "(960, 3)"
      ]
     },
     "execution_count": 15,
     "metadata": {},
     "output_type": "execute_result"
    }
   ],
   "source": [
    "ic50_notnull_positive=ic50_notnull_positive.drop_duplicates(subset=['Molecule_ChEMBL_ID'],keep='last')\n",
    "ic50_notnull_positive.shape"
   ]
  },
  {
   "cell_type": "code",
   "execution_count": 16,
   "id": "e907ada9-6f77-48aa-bdd7-cf893205bb98",
   "metadata": {},
   "outputs": [
    {
     "data": {
      "text/html": [
       "<div>\n",
       "<style scoped>\n",
       "    .dataframe tbody tr th:only-of-type {\n",
       "        vertical-align: middle;\n",
       "    }\n",
       "\n",
       "    .dataframe tbody tr th {\n",
       "        vertical-align: top;\n",
       "    }\n",
       "\n",
       "    .dataframe thead th {\n",
       "        text-align: right;\n",
       "    }\n",
       "</style>\n",
       "<table border=\"1\" class=\"dataframe\">\n",
       "  <thead>\n",
       "    <tr style=\"text-align: right;\">\n",
       "      <th></th>\n",
       "      <th>Molecule_ChEMBL_ID</th>\n",
       "      <th>Standard_Value</th>\n",
       "      <th>Smiles</th>\n",
       "    </tr>\n",
       "  </thead>\n",
       "  <tbody>\n",
       "    <tr>\n",
       "      <th>3561</th>\n",
       "      <td>CHEMBL240055</td>\n",
       "      <td>0.30</td>\n",
       "      <td>O=C(OC1([C@H]2CCC[C@@H](c3cc(F)cc(F)c3)N2S(=O)...</td>\n",
       "    </tr>\n",
       "    <tr>\n",
       "      <th>2479</th>\n",
       "      <td>CHEMBL1091513</td>\n",
       "      <td>0.65</td>\n",
       "      <td>O=S(=O)(NC1CCC(c2cc(F)ccc2F)(S(=O)(=O)c2ccc(Cl...</td>\n",
       "    </tr>\n",
       "    <tr>\n",
       "      <th>1208</th>\n",
       "      <td>CHEMBL4110988</td>\n",
       "      <td>0.70</td>\n",
       "      <td>CO[C@H]1CC[C@]2(CC1)Cc1ccc(C#CC(C)C)cc1[C@]21N...</td>\n",
       "    </tr>\n",
       "    <tr>\n",
       "      <th>6663</th>\n",
       "      <td>CHEMBL3898248</td>\n",
       "      <td>0.70</td>\n",
       "      <td>CO[C@H]1CC[C@]2(CC1)Cc1ccc(OCCC(F)(F)F)cc1[C@@...</td>\n",
       "    </tr>\n",
       "    <tr>\n",
       "      <th>4853</th>\n",
       "      <td>CHEMBL3939963</td>\n",
       "      <td>0.80</td>\n",
       "      <td>CO[C@H]1CC[C@]2(CC1)Cc1ccc(OCCC3CC3)cc1C21N=C(...</td>\n",
       "    </tr>\n",
       "  </tbody>\n",
       "</table>\n",
       "</div>"
      ],
      "text/plain": [
       "     Molecule_ChEMBL_ID  Standard_Value  \\\n",
       "3561       CHEMBL240055            0.30   \n",
       "2479      CHEMBL1091513            0.65   \n",
       "1208      CHEMBL4110988            0.70   \n",
       "6663      CHEMBL3898248            0.70   \n",
       "4853      CHEMBL3939963            0.80   \n",
       "\n",
       "                                                 Smiles  \n",
       "3561  O=C(OC1([C@H]2CCC[C@@H](c3cc(F)cc(F)c3)N2S(=O)...  \n",
       "2479  O=S(=O)(NC1CCC(c2cc(F)ccc2F)(S(=O)(=O)c2ccc(Cl...  \n",
       "1208  CO[C@H]1CC[C@]2(CC1)Cc1ccc(C#CC(C)C)cc1[C@]21N...  \n",
       "6663  CO[C@H]1CC[C@]2(CC1)Cc1ccc(OCCC(F)(F)F)cc1[C@@...  \n",
       "4853  CO[C@H]1CC[C@]2(CC1)Cc1ccc(OCCC3CC3)cc1C21N=C(...  "
      ]
     },
     "execution_count": 16,
     "metadata": {},
     "output_type": "execute_result"
    }
   ],
   "source": [
    "ic50_notnull_positive.head()"
   ]
  },
  {
   "cell_type": "markdown",
   "id": "f9b1cc33-c085-47e7-9dd6-029d09f85b6e",
   "metadata": {},
   "source": [
    "<h1>Classification des molecules selon la valeur de ic50</h1>"
   ]
  },
  {
   "cell_type": "markdown",
   "id": "85c41195-9fc5-47c1-bc51-b135a5e550cc",
   "metadata": {},
   "source": [
    "<h2>Ajouter la colone molecule_class</h2>"
   ]
  },
  {
   "cell_type": "code",
   "execution_count": 17,
   "id": "8eab882c-c43e-4a5c-b06a-0590e37f0def",
   "metadata": {},
   "outputs": [],
   "source": [
    "ic50_notnull_positive[\"molecule_class\"] = \" \""
   ]
  },
  {
   "cell_type": "markdown",
   "id": "1a00b4dd-19fb-48cf-ab0b-2032c2d83f24",
   "metadata": {},
   "source": [
    "<h2>Active class</h2>"
   ]
  },
  {
   "cell_type": "code",
   "execution_count": 18,
   "id": "6ac3fdff-54c9-4722-a334-b753cf001d34",
   "metadata": {},
   "outputs": [
    {
     "data": {
      "text/plain": [
       "(370, 4)"
      ]
     },
     "execution_count": 18,
     "metadata": {},
     "output_type": "execute_result"
    }
   ],
   "source": [
    "##active=ic50_notnull_positive[ic50_data_notnull.Standard_Value<=1000]\n",
    "active_class=ic50_notnull_positive.query('Standard_Value  <= 1000 ')\n",
    "active_class.shape"
   ]
  },
  {
   "cell_type": "code",
   "execution_count": 19,
   "id": "2544ceba-b92c-4f18-9ba9-2b219bfc7bd0",
   "metadata": {},
   "outputs": [
    {
     "data": {
      "text/html": [
       "<div>\n",
       "<style scoped>\n",
       "    .dataframe tbody tr th:only-of-type {\n",
       "        vertical-align: middle;\n",
       "    }\n",
       "\n",
       "    .dataframe tbody tr th {\n",
       "        vertical-align: top;\n",
       "    }\n",
       "\n",
       "    .dataframe thead th {\n",
       "        text-align: right;\n",
       "    }\n",
       "</style>\n",
       "<table border=\"1\" class=\"dataframe\">\n",
       "  <thead>\n",
       "    <tr style=\"text-align: right;\">\n",
       "      <th></th>\n",
       "      <th>Molecule_ChEMBL_ID</th>\n",
       "      <th>Standard_Value</th>\n",
       "      <th>Smiles</th>\n",
       "      <th>molecule_class</th>\n",
       "    </tr>\n",
       "  </thead>\n",
       "  <tbody>\n",
       "    <tr>\n",
       "      <th>3561</th>\n",
       "      <td>CHEMBL240055</td>\n",
       "      <td>0.30</td>\n",
       "      <td>O=C(OC1([C@H]2CCC[C@@H](c3cc(F)cc(F)c3)N2S(=O)...</td>\n",
       "      <td></td>\n",
       "    </tr>\n",
       "    <tr>\n",
       "      <th>2479</th>\n",
       "      <td>CHEMBL1091513</td>\n",
       "      <td>0.65</td>\n",
       "      <td>O=S(=O)(NC1CCC(c2cc(F)ccc2F)(S(=O)(=O)c2ccc(Cl...</td>\n",
       "      <td></td>\n",
       "    </tr>\n",
       "    <tr>\n",
       "      <th>1208</th>\n",
       "      <td>CHEMBL4110988</td>\n",
       "      <td>0.70</td>\n",
       "      <td>CO[C@H]1CC[C@]2(CC1)Cc1ccc(C#CC(C)C)cc1[C@]21N...</td>\n",
       "      <td></td>\n",
       "    </tr>\n",
       "    <tr>\n",
       "      <th>6663</th>\n",
       "      <td>CHEMBL3898248</td>\n",
       "      <td>0.70</td>\n",
       "      <td>CO[C@H]1CC[C@]2(CC1)Cc1ccc(OCCC(F)(F)F)cc1[C@@...</td>\n",
       "      <td></td>\n",
       "    </tr>\n",
       "    <tr>\n",
       "      <th>4853</th>\n",
       "      <td>CHEMBL3939963</td>\n",
       "      <td>0.80</td>\n",
       "      <td>CO[C@H]1CC[C@]2(CC1)Cc1ccc(OCCC3CC3)cc1C21N=C(...</td>\n",
       "      <td></td>\n",
       "    </tr>\n",
       "  </tbody>\n",
       "</table>\n",
       "</div>"
      ],
      "text/plain": [
       "     Molecule_ChEMBL_ID  Standard_Value  \\\n",
       "3561       CHEMBL240055            0.30   \n",
       "2479      CHEMBL1091513            0.65   \n",
       "1208      CHEMBL4110988            0.70   \n",
       "6663      CHEMBL3898248            0.70   \n",
       "4853      CHEMBL3939963            0.80   \n",
       "\n",
       "                                                 Smiles molecule_class  \n",
       "3561  O=C(OC1([C@H]2CCC[C@@H](c3cc(F)cc(F)c3)N2S(=O)...                 \n",
       "2479  O=S(=O)(NC1CCC(c2cc(F)ccc2F)(S(=O)(=O)c2ccc(Cl...                 \n",
       "1208  CO[C@H]1CC[C@]2(CC1)Cc1ccc(C#CC(C)C)cc1[C@]21N...                 \n",
       "6663  CO[C@H]1CC[C@]2(CC1)Cc1ccc(OCCC(F)(F)F)cc1[C@@...                 \n",
       "4853  CO[C@H]1CC[C@]2(CC1)Cc1ccc(OCCC3CC3)cc1C21N=C(...                 "
      ]
     },
     "execution_count": 19,
     "metadata": {},
     "output_type": "execute_result"
    }
   ],
   "source": [
    "active_class.head()"
   ]
  },
  {
   "cell_type": "code",
   "execution_count": 20,
   "id": "50168d4c-d9a6-43d5-860e-56f71e1a299b",
   "metadata": {},
   "outputs": [
    {
     "name": "stderr",
     "output_type": "stream",
     "text": [
      "C:\\Users\\NEONTECH\\anaconda3\\lib\\site-packages\\pandas\\core\\indexing.py:1817: SettingWithCopyWarning: \n",
      "A value is trying to be set on a copy of a slice from a DataFrame.\n",
      "Try using .loc[row_indexer,col_indexer] = value instead\n",
      "\n",
      "See the caveats in the documentation: https://pandas.pydata.org/pandas-docs/stable/user_guide/indexing.html#returning-a-view-versus-a-copy\n",
      "  self._setitem_single_column(loc, value, pi)\n"
     ]
    }
   ],
   "source": [
    "active_class.loc[:,'molecule_class'] ='active'"
   ]
  },
  {
   "cell_type": "markdown",
   "id": "fc12ccfa-3f2d-4ad9-b06d-a2a0de91a9a3",
   "metadata": {},
   "source": [
    "<h2>Inactive class</h2>"
   ]
  },
  {
   "cell_type": "code",
   "execution_count": 21,
   "id": "d587bdba-a063-460f-a310-1aed57080ab1",
   "metadata": {},
   "outputs": [
    {
     "data": {
      "text/plain": [
       "(368, 4)"
      ]
     },
     "execution_count": 21,
     "metadata": {},
     "output_type": "execute_result"
    }
   ],
   "source": [
    "inactive_class=ic50_notnull_positive.query('Standard_Value >= 10000 ')\n",
    "inactive_class.shape"
   ]
  },
  {
   "cell_type": "code",
   "execution_count": 22,
   "id": "5417312e-02bb-46f0-b619-476b30fa47f5",
   "metadata": {},
   "outputs": [],
   "source": [
    "inactive_class.loc[:,'molecule_class'] ='inactive'"
   ]
  },
  {
   "cell_type": "markdown",
   "id": "5435f587-955f-46e9-aab8-6330e977a38d",
   "metadata": {},
   "source": [
    "<h1>Concatination</h1>"
   ]
  },
  {
   "cell_type": "code",
   "execution_count": 23,
   "id": "771487e2-a936-48df-a751-b0a0f75f781a",
   "metadata": {},
   "outputs": [],
   "source": [
    "dfc_2class=pd.concat([active_class,inactive_class])"
   ]
  },
  {
   "cell_type": "code",
   "execution_count": 24,
   "id": "0896ddc3-c869-4182-bde4-b26cdfb2074c",
   "metadata": {},
   "outputs": [
    {
     "data": {
      "text/plain": [
       "(738, 4)"
      ]
     },
     "execution_count": 24,
     "metadata": {},
     "output_type": "execute_result"
    }
   ],
   "source": [
    "dfc_2class.shape"
   ]
  },
  {
   "cell_type": "code",
   "execution_count": 25,
   "id": "0d3f8d1e-bf76-4c3c-97ec-69dc8e204d61",
   "metadata": {},
   "outputs": [
    {
     "data": {
      "text/html": [
       "<div>\n",
       "<style scoped>\n",
       "    .dataframe tbody tr th:only-of-type {\n",
       "        vertical-align: middle;\n",
       "    }\n",
       "\n",
       "    .dataframe tbody tr th {\n",
       "        vertical-align: top;\n",
       "    }\n",
       "\n",
       "    .dataframe thead th {\n",
       "        text-align: right;\n",
       "    }\n",
       "</style>\n",
       "<table border=\"1\" class=\"dataframe\">\n",
       "  <thead>\n",
       "    <tr style=\"text-align: right;\">\n",
       "      <th></th>\n",
       "      <th>Molecule_ChEMBL_ID</th>\n",
       "      <th>Standard_Value</th>\n",
       "      <th>Smiles</th>\n",
       "      <th>molecule_class</th>\n",
       "    </tr>\n",
       "  </thead>\n",
       "  <tbody>\n",
       "    <tr>\n",
       "      <th>3561</th>\n",
       "      <td>CHEMBL240055</td>\n",
       "      <td>0.30</td>\n",
       "      <td>O=C(OC1([C@H]2CCC[C@@H](c3cc(F)cc(F)c3)N2S(=O)...</td>\n",
       "      <td>active</td>\n",
       "    </tr>\n",
       "    <tr>\n",
       "      <th>2479</th>\n",
       "      <td>CHEMBL1091513</td>\n",
       "      <td>0.65</td>\n",
       "      <td>O=S(=O)(NC1CCC(c2cc(F)ccc2F)(S(=O)(=O)c2ccc(Cl...</td>\n",
       "      <td>active</td>\n",
       "    </tr>\n",
       "    <tr>\n",
       "      <th>1208</th>\n",
       "      <td>CHEMBL4110988</td>\n",
       "      <td>0.70</td>\n",
       "      <td>CO[C@H]1CC[C@]2(CC1)Cc1ccc(C#CC(C)C)cc1[C@]21N...</td>\n",
       "      <td>active</td>\n",
       "    </tr>\n",
       "    <tr>\n",
       "      <th>6663</th>\n",
       "      <td>CHEMBL3898248</td>\n",
       "      <td>0.70</td>\n",
       "      <td>CO[C@H]1CC[C@]2(CC1)Cc1ccc(OCCC(F)(F)F)cc1[C@@...</td>\n",
       "      <td>active</td>\n",
       "    </tr>\n",
       "    <tr>\n",
       "      <th>4853</th>\n",
       "      <td>CHEMBL3939963</td>\n",
       "      <td>0.80</td>\n",
       "      <td>CO[C@H]1CC[C@]2(CC1)Cc1ccc(OCCC3CC3)cc1C21N=C(...</td>\n",
       "      <td>active</td>\n",
       "    </tr>\n",
       "  </tbody>\n",
       "</table>\n",
       "</div>"
      ],
      "text/plain": [
       "     Molecule_ChEMBL_ID  Standard_Value  \\\n",
       "3561       CHEMBL240055            0.30   \n",
       "2479      CHEMBL1091513            0.65   \n",
       "1208      CHEMBL4110988            0.70   \n",
       "6663      CHEMBL3898248            0.70   \n",
       "4853      CHEMBL3939963            0.80   \n",
       "\n",
       "                                                 Smiles molecule_class  \n",
       "3561  O=C(OC1([C@H]2CCC[C@@H](c3cc(F)cc(F)c3)N2S(=O)...         active  \n",
       "2479  O=S(=O)(NC1CCC(c2cc(F)ccc2F)(S(=O)(=O)c2ccc(Cl...         active  \n",
       "1208  CO[C@H]1CC[C@]2(CC1)Cc1ccc(C#CC(C)C)cc1[C@]21N...         active  \n",
       "6663  CO[C@H]1CC[C@]2(CC1)Cc1ccc(OCCC(F)(F)F)cc1[C@@...         active  \n",
       "4853  CO[C@H]1CC[C@]2(CC1)Cc1ccc(OCCC3CC3)cc1C21N=C(...         active  "
      ]
     },
     "execution_count": 25,
     "metadata": {},
     "output_type": "execute_result"
    }
   ],
   "source": [
    "dfc_2class.head()"
   ]
  },
  {
   "cell_type": "markdown",
   "id": "a54843ce-7ba4-4080-a017-7fdf2eb5b554",
   "metadata": {},
   "source": [
    "<h1>Results</h1>"
   ]
  },
  {
   "cell_type": "code",
   "execution_count": 26,
   "id": "464b92a3-cc84-4704-adbc-a845714af873",
   "metadata": {},
   "outputs": [
    {
     "data": {
      "text/plain": [
       "active      370\n",
       "inactive    368\n",
       "Name: molecule_class, dtype: int64"
      ]
     },
     "execution_count": 26,
     "metadata": {},
     "output_type": "execute_result"
    }
   ],
   "source": [
    "dfc_2class.molecule_class.value_counts()"
   ]
  },
  {
   "cell_type": "markdown",
   "id": "5d9d6294-70f4-42f8-b199-ee17ce382a6e",
   "metadata": {},
   "source": [
    "<h1>Exporting data</h1>"
   ]
  },
  {
   "cell_type": "code",
   "execution_count": 27,
   "id": "5d957211-ebdf-4014-993c-3ee0bce26eff",
   "metadata": {},
   "outputs": [],
   "source": [
    "#dfc_2class.to_csv(\"2_dataset_activities_cleaned.csv\" ,index=False)"
   ]
  },
  {
   "cell_type": "code",
   "execution_count": null,
   "id": "3b26efd2-6e27-4377-94b9-22e253872772",
   "metadata": {},
   "outputs": [],
   "source": []
  }
 ],
 "metadata": {
  "kernelspec": {
   "display_name": "Python 3 (ipykernel)",
   "language": "python",
   "name": "python3"
  },
  "language_info": {
   "codemirror_mode": {
    "name": "ipython",
    "version": 3
   },
   "file_extension": ".py",
   "mimetype": "text/x-python",
   "name": "python",
   "nbconvert_exporter": "python",
   "pygments_lexer": "ipython3",
   "version": "3.9.7"
  }
 },
 "nbformat": 4,
 "nbformat_minor": 5
}
