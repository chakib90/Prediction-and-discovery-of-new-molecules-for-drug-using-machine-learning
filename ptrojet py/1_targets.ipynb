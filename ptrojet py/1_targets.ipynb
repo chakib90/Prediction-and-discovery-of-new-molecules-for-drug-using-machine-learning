{
 "cells": [
  {
   "cell_type": "code",
   "execution_count": 3,
   "id": "e17aea30-706e-434b-a023-a0ef5a61fd5c",
   "metadata": {},
   "outputs": [],
   "source": [
    "import pandas as pd\n",
    "import numpy as np"
   ]
  },
  {
   "cell_type": "code",
   "execution_count": 4,
   "id": "e6e0740c-6e66-400f-b47f-0056e2eeee06",
   "metadata": {},
   "outputs": [],
   "source": [
    "df=pd.read_csv(\"alz target.csv\",  delimiter=';', skiprows=0, low_memory=False)"
   ]
  },
  {
   "cell_type": "code",
   "execution_count": null,
   "id": "a5749cb9-a3ec-4e8e-b7b0-5756fd3bbe42",
   "metadata": {},
   "outputs": [],
   "source": []
  },
  {
   "cell_type": "code",
   "execution_count": 5,
   "id": "256ee0ea-67f0-41a4-881a-d081219034e6",
   "metadata": {},
   "outputs": [
    {
     "data": {
      "text/plain": [
       "(4, 9)"
      ]
     },
     "execution_count": 5,
     "metadata": {},
     "output_type": "execute_result"
    }
   ],
   "source": [
    "df.shape"
   ]
  },
  {
   "cell_type": "code",
   "execution_count": 6,
   "id": "a24d18e9-20f2-477d-944b-7cbc6787746d",
   "metadata": {},
   "outputs": [
    {
     "data": {
      "text/html": [
       "<div>\n",
       "<style scoped>\n",
       "    .dataframe tbody tr th:only-of-type {\n",
       "        vertical-align: middle;\n",
       "    }\n",
       "\n",
       "    .dataframe tbody tr th {\n",
       "        vertical-align: top;\n",
       "    }\n",
       "\n",
       "    .dataframe thead th {\n",
       "        text-align: right;\n",
       "    }\n",
       "</style>\n",
       "<table border=\"1\" class=\"dataframe\">\n",
       "  <thead>\n",
       "    <tr style=\"text-align: right;\">\n",
       "      <th></th>\n",
       "      <th>ChEMBL ID</th>\n",
       "      <th>Name</th>\n",
       "      <th>UniProt Accessions</th>\n",
       "      <th>Type</th>\n",
       "      <th>Organism</th>\n",
       "      <th>Compounds</th>\n",
       "      <th>Activities</th>\n",
       "      <th>Tax ID</th>\n",
       "      <th>Species Group Flag</th>\n",
       "    </tr>\n",
       "  </thead>\n",
       "  <tbody>\n",
       "    <tr>\n",
       "      <th>0</th>\n",
       "      <td>CHEMBL2487</td>\n",
       "      <td>Beta amyloid A4 protein</td>\n",
       "      <td>P05067</td>\n",
       "      <td>SINGLE PROTEIN</td>\n",
       "      <td>Homo sapiens</td>\n",
       "      <td>4068</td>\n",
       "      <td>7287</td>\n",
       "      <td>9606</td>\n",
       "      <td>False</td>\n",
       "    </tr>\n",
       "    <tr>\n",
       "      <th>1</th>\n",
       "      <td>CHEMBL4523942</td>\n",
       "      <td>Amyloid-beta A4 protein</td>\n",
       "      <td>P12023</td>\n",
       "      <td>SINGLE PROTEIN</td>\n",
       "      <td>Mus musculus</td>\n",
       "      <td>1</td>\n",
       "      <td>4</td>\n",
       "      <td>10090</td>\n",
       "      <td>False</td>\n",
       "    </tr>\n",
       "    <tr>\n",
       "      <th>2</th>\n",
       "      <td>CHEMBL3638365</td>\n",
       "      <td>Amyloid beta A4 protein</td>\n",
       "      <td>P08592</td>\n",
       "      <td>SINGLE PROTEIN</td>\n",
       "      <td>Rattus norvegicus</td>\n",
       "      <td>43</td>\n",
       "      <td>43</td>\n",
       "      <td>10116</td>\n",
       "      <td>False</td>\n",
       "    </tr>\n",
       "    <tr>\n",
       "      <th>3</th>\n",
       "      <td>CHEMBL3085621</td>\n",
       "      <td>Nucleosome-remodeling factor subunit BPTF</td>\n",
       "      <td>Q12830</td>\n",
       "      <td>SINGLE PROTEIN</td>\n",
       "      <td>Homo sapiens</td>\n",
       "      <td>60</td>\n",
       "      <td>79</td>\n",
       "      <td>9606</td>\n",
       "      <td>False</td>\n",
       "    </tr>\n",
       "  </tbody>\n",
       "</table>\n",
       "</div>"
      ],
      "text/plain": [
       "       ChEMBL ID                                       Name  \\\n",
       "0     CHEMBL2487                    Beta amyloid A4 protein   \n",
       "1  CHEMBL4523942                    Amyloid-beta A4 protein   \n",
       "2  CHEMBL3638365                    Amyloid beta A4 protein   \n",
       "3  CHEMBL3085621  Nucleosome-remodeling factor subunit BPTF   \n",
       "\n",
       "  UniProt Accessions            Type           Organism  Compounds  \\\n",
       "0             P05067  SINGLE PROTEIN       Homo sapiens       4068   \n",
       "1             P12023  SINGLE PROTEIN       Mus musculus          1   \n",
       "2             P08592  SINGLE PROTEIN  Rattus norvegicus         43   \n",
       "3             Q12830  SINGLE PROTEIN       Homo sapiens         60   \n",
       "\n",
       "   Activities  Tax ID  Species Group Flag  \n",
       "0        7287    9606               False  \n",
       "1           4   10090               False  \n",
       "2          43   10116               False  \n",
       "3          79    9606               False  "
      ]
     },
     "execution_count": 6,
     "metadata": {},
     "output_type": "execute_result"
    }
   ],
   "source": [
    "df"
   ]
  },
  {
   "cell_type": "code",
   "execution_count": null,
   "id": "12c692c5-dc2b-4299-aa3c-bda6f0c6f4ee",
   "metadata": {},
   "outputs": [
    {
     "data": {
      "text/plain": [
       "7287"
      ]
     },
     "execution_count": 17,
     "metadata": {},
     "output_type": "execute_result"
    }
   ],
   "source": [
    "df['Activities'].max()"
   ]
  },
  {
   "cell_type": "code",
   "execution_count": null,
   "id": "ad160b15-142d-4cf7-a353-74cce2fcadcb",
   "metadata": {},
   "outputs": [],
   "source": []
  },
  {
   "cell_type": "code",
   "execution_count": null,
   "id": "26d8a34b-9fec-4189-9dfe-176693fbcc0d",
   "metadata": {},
   "outputs": [],
   "source": []
  },
  {
   "cell_type": "code",
   "execution_count": null,
   "id": "99313184-fd05-4ca4-a7cc-f2a4454e7a24",
   "metadata": {},
   "outputs": [],
   "source": []
  },
  {
   "cell_type": "code",
   "execution_count": null,
   "id": "043190ef-cc2e-4e00-ba62-b9cedcdca0a9",
   "metadata": {},
   "outputs": [],
   "source": []
  },
  {
   "cell_type": "code",
   "execution_count": null,
   "id": "6cfcd684-c19a-496f-9646-41860d238df9",
   "metadata": {},
   "outputs": [],
   "source": []
  },
  {
   "cell_type": "code",
   "execution_count": null,
   "id": "4ce2960b-6d66-4c53-9472-7e2e210aefef",
   "metadata": {},
   "outputs": [],
   "source": []
  },
  {
   "cell_type": "code",
   "execution_count": null,
   "id": "28896925-dbdb-4369-a3f0-dcfcaa712431",
   "metadata": {},
   "outputs": [],
   "source": []
  }
 ],
 "metadata": {
  "kernelspec": {
   "display_name": "Python 3 (ipykernel)",
   "language": "python",
   "name": "python3"
  },
  "language_info": {
   "codemirror_mode": {
    "name": "ipython",
    "version": 3
   },
   "file_extension": ".py",
   "mimetype": "text/x-python",
   "name": "python",
   "nbconvert_exporter": "python",
   "pygments_lexer": "ipython3",
   "version": "3.9.7"
  }
 },
 "nbformat": 4,
 "nbformat_minor": 5
}
