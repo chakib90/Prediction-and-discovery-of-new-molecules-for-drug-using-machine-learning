{
 "cells": [
  {
   "cell_type": "markdown",
   "id": "746577eb-c241-4796-9523-949fcf65ebf6",
   "metadata": {},
   "source": [
    "<h1>import the bibilioteques</h1>"
   ]
  },
  {
   "cell_type": "code",
   "execution_count": 1,
   "id": "cf8bc9d2-315c-406d-ac10-83e779337d9b",
   "metadata": {},
   "outputs": [],
   "source": [
    "import pandas as pd"
   ]
  },
  {
   "cell_type": "markdown",
   "id": "0725cef4-6c48-4333-a420-7659cba9023e",
   "metadata": {},
   "source": [
    "<h1>import the dataset</h1>"
   ]
  },
  {
   "cell_type": "code",
   "execution_count": 2,
   "id": "e8eb805b-eaf8-4c0b-8cd1-a08a4c1321d7",
   "metadata": {},
   "outputs": [
    {
     "data": {
      "text/plain": [
       "(1096, 31)"
      ]
     },
     "execution_count": 2,
     "metadata": {},
     "output_type": "execute_result"
    }
   ],
   "source": [
    "data=pd.read_csv(\"3_data_moleculaire_desc.csv\")\n",
    "data.shape"
   ]
  },
  {
   "cell_type": "markdown",
   "id": "3892ef81-92ea-4b27-a35a-27ab8dab24be",
   "metadata": {},
   "source": [
    "<h1>Normalisation</h1>"
   ]
  },
  {
   "cell_type": "code",
   "execution_count": 3,
   "id": "160053fb-9d2e-4ce6-9823-ff4ea48ba4cd",
   "metadata": {},
   "outputs": [],
   "source": [
    "data=data.rename(columns = {'ChEMBL ID':'Molecule_ChEMBL_ID'})"
   ]
  },
  {
   "cell_type": "markdown",
   "id": "4e7144d8-b36b-447d-a305-d685a41e100d",
   "metadata": {},
   "source": [
    "<h1>transformation des type des colonnes</h1>"
   ]
  },
  {
   "cell_type": "code",
   "execution_count": 4,
   "id": "fb4240e5-6125-4e03-8a37-90a501845f5e",
   "metadata": {},
   "outputs": [
    {
     "data": {
      "text/plain": [
       "Molecule_ChEMBL_ID                  object\n",
       "Name                                object\n",
       "Synonyms                            object\n",
       "Type                                object\n",
       "Max Phase                            int64\n",
       "Molecular Weight                   float64\n",
       "Targets                              int64\n",
       "Bioactivities                        int64\n",
       "AlogP                               object\n",
       "Polar Surface Area                  object\n",
       "HBA                                 object\n",
       "HBD                                 object\n",
       "#RO5 Violations                     object\n",
       "#Rotatable Bonds                    object\n",
       "Passes Ro3                          object\n",
       "QED Weighted                        object\n",
       "CX Acidic pKa                       object\n",
       "CX Basic pKa                        object\n",
       "CX LogP                             object\n",
       "CX LogD                             object\n",
       "Aromatic Rings                      object\n",
       "Structure Type                      object\n",
       "Inorganic Flag                       int64\n",
       "Heavy Atoms                         object\n",
       "HBA (Lipinski)                      object\n",
       "HBD (Lipinski)                      object\n",
       "#RO5 Violations (Lipinski)          object\n",
       "Molecular Weight (Monoisotopic)    float64\n",
       "Molecular Species                   object\n",
       "Molecular Formula                   object\n",
       "Smiles                              object\n",
       "dtype: object"
      ]
     },
     "execution_count": 4,
     "metadata": {},
     "output_type": "execute_result"
    }
   ],
   "source": [
    "data.dtypes"
   ]
  },
  {
   "cell_type": "code",
   "execution_count": 5,
   "id": "5c4ac85c-8b51-4688-bfa3-0cd573789619",
   "metadata": {},
   "outputs": [],
   "source": [
    "data[ 'AlogP']=pd.to_numeric( data['AlogP'],errors='coerce')\n",
    "data[ 'Polar Surface Area']=pd.to_numeric( data['Polar Surface Area'],errors='coerce')\n",
    "data[ 'HBA']=pd.to_numeric( data['HBA'],errors='coerce')\n",
    "data[ 'HBD']=pd.to_numeric( data['HBD'],errors='coerce')\n",
    "\n",
    "data[ '#RO5 Violations']=pd.to_numeric( data['#RO5 Violations'],errors='coerce')\n",
    "data[ '#Rotatable Bonds']=pd.to_numeric( data['#Rotatable Bonds'],errors='coerce')\n",
    "data[ 'QED Weighted']=pd.to_numeric( data['QED Weighted'],errors='coerce')\n",
    "data[ 'CX Acidic pKa']=pd.to_numeric( data['CX Acidic pKa'],errors='coerce')\n",
    "\n",
    "data[ 'CX Basic pKa']=pd.to_numeric( data['CX Basic pKa'],errors='coerce')\n",
    "data[ 'CX LogP']=pd.to_numeric( data['CX LogP'],errors='coerce')\n",
    "data[ 'CX LogD']=pd.to_numeric( data['CX LogD'],errors='coerce')\n",
    "data[ 'Aromatic Rings']=pd.to_numeric( data['Aromatic Rings'],errors='coerce')\n",
    "\n",
    "data[ 'Heavy Atoms']=pd.to_numeric( data['Heavy Atoms'],errors='coerce')\n",
    "data[ 'HBA (Lipinski)']=pd.to_numeric( data['HBA (Lipinski)'],errors='coerce')\n",
    "data[ 'HBD (Lipinski)']=pd.to_numeric( data['HBD (Lipinski)'],errors='coerce')\n",
    "data[ '#RO5 Violations (Lipinski)']=pd.to_numeric( data['#RO5 Violations (Lipinski)'],errors='coerce')\n"
   ]
  },
  {
   "cell_type": "code",
   "execution_count": 6,
   "id": "881684c7-2fed-48d8-9b52-cf629c077c79",
   "metadata": {},
   "outputs": [
    {
     "data": {
      "text/plain": [
       "Molecule_ChEMBL_ID                  object\n",
       "Name                                object\n",
       "Synonyms                            object\n",
       "Type                                object\n",
       "Max Phase                            int64\n",
       "Molecular Weight                   float64\n",
       "Targets                              int64\n",
       "Bioactivities                        int64\n",
       "AlogP                              float64\n",
       "Polar Surface Area                 float64\n",
       "HBA                                float64\n",
       "HBD                                float64\n",
       "#RO5 Violations                    float64\n",
       "#Rotatable Bonds                   float64\n",
       "Passes Ro3                          object\n",
       "QED Weighted                       float64\n",
       "CX Acidic pKa                      float64\n",
       "CX Basic pKa                       float64\n",
       "CX LogP                            float64\n",
       "CX LogD                            float64\n",
       "Aromatic Rings                     float64\n",
       "Structure Type                      object\n",
       "Inorganic Flag                       int64\n",
       "Heavy Atoms                        float64\n",
       "HBA (Lipinski)                     float64\n",
       "HBD (Lipinski)                     float64\n",
       "#RO5 Violations (Lipinski)         float64\n",
       "Molecular Weight (Monoisotopic)    float64\n",
       "Molecular Species                   object\n",
       "Molecular Formula                   object\n",
       "Smiles                              object\n",
       "dtype: object"
      ]
     },
     "execution_count": 6,
     "metadata": {},
     "output_type": "execute_result"
    }
   ],
   "source": [
    "data.dtypes"
   ]
  },
  {
   "cell_type": "code",
   "execution_count": 7,
   "id": "6f5c3122-a41a-4804-86cb-f84b096cd295",
   "metadata": {},
   "outputs": [],
   "source": [
    "#data=data.rename(columns = {'CX LogP':'CX_LogP','CX LogD':'CX_LogD','Inorganic Flag':'Inorganic_Flag'})"
   ]
  },
  {
   "cell_type": "code",
   "execution_count": null,
   "id": "4c1fcd67-4920-4eee-9d2f-6c9c07647e4d",
   "metadata": {},
   "outputs": [],
   "source": []
  },
  {
   "cell_type": "markdown",
   "id": "1172b314-9785-4fc9-bf1c-afe4429f27fb",
   "metadata": {},
   "source": [
    "<h1>suppression des colonnes inutiles </h1>"
   ]
  },
  {
   "cell_type": "code",
   "execution_count": 8,
   "id": "9724554e-0586-4d42-b8d1-aa878d26a31f",
   "metadata": {},
   "outputs": [
    {
     "data": {
      "text/plain": [
       "(1096, 26)"
      ]
     },
     "execution_count": 8,
     "metadata": {},
     "output_type": "execute_result"
    }
   ],
   "source": [
    "df_drop_column = data.drop(['Name','Synonyms','Type','CX Acidic pKa','CX Basic pKa'],axis='columns')\n",
    "df_drop_column.shape"
   ]
  },
  {
   "cell_type": "markdown",
   "id": "b6e3be80-3aaa-4ee9-b231-76b696099e16",
   "metadata": {
    "tags": []
   },
   "source": [
    "<h1>Gérer les valeurs manquantes </h1>"
   ]
  },
  {
   "cell_type": "code",
   "execution_count": 9,
   "id": "5295e099-8dd6-4a1c-9361-1b781526dde3",
   "metadata": {},
   "outputs": [
    {
     "data": {
      "text/plain": [
       "Molecule_ChEMBL_ID                  0\n",
       "Max Phase                           0\n",
       "Molecular Weight                    0\n",
       "Targets                             0\n",
       "Bioactivities                       0\n",
       "AlogP                              19\n",
       "Polar Surface Area                 19\n",
       "HBA                                19\n",
       "HBD                                19\n",
       "#RO5 Violations                    19\n",
       "#Rotatable Bonds                   19\n",
       "Passes Ro3                          0\n",
       "QED Weighted                       19\n",
       "CX LogP                            19\n",
       "CX LogD                            19\n",
       "Aromatic Rings                     19\n",
       "Structure Type                      0\n",
       "Inorganic Flag                      0\n",
       "Heavy Atoms                        19\n",
       "HBA (Lipinski)                     19\n",
       "HBD (Lipinski)                     19\n",
       "#RO5 Violations (Lipinski)         19\n",
       "Molecular Weight (Monoisotopic)     0\n",
       "Molecular Species                   0\n",
       "Molecular Formula                   0\n",
       "Smiles                              0\n",
       "dtype: int64"
      ]
     },
     "execution_count": 9,
     "metadata": {},
     "output_type": "execute_result"
    }
   ],
   "source": [
    "df_drop_column.isnull().sum()"
   ]
  },
  {
   "cell_type": "code",
   "execution_count": 10,
   "id": "d6729375-a5f2-4d1d-b33d-df185f06b476",
   "metadata": {},
   "outputs": [
    {
     "data": {
      "text/plain": [
       "(1077, 26)"
      ]
     },
     "execution_count": 10,
     "metadata": {},
     "output_type": "execute_result"
    }
   ],
   "source": [
    "df_drop_row= df_drop_column.dropna(axis=0,thresh=19)\n",
    "df_drop_row.shape"
   ]
  },
  {
   "cell_type": "code",
   "execution_count": 11,
   "id": "08005443-7581-4d28-af0e-48c2fb19fb54",
   "metadata": {},
   "outputs": [
    {
     "data": {
      "text/plain": [
       "0"
      ]
     },
     "execution_count": 11,
     "metadata": {},
     "output_type": "execute_result"
    }
   ],
   "source": [
    "df_drop_row.isnull().sum().sum()"
   ]
  },
  {
   "cell_type": "code",
   "execution_count": null,
   "id": "9705b11e-134b-4e6c-9f8b-383a777b2832",
   "metadata": {},
   "outputs": [],
   "source": []
  },
  {
   "cell_type": "code",
   "execution_count": 12,
   "id": "36fc6905-b17f-4df4-a69f-d1f100d8ea94",
   "metadata": {},
   "outputs": [
    {
     "data": {
      "text/html": [
       "<div>\n",
       "<style scoped>\n",
       "    .dataframe tbody tr th:only-of-type {\n",
       "        vertical-align: middle;\n",
       "    }\n",
       "\n",
       "    .dataframe tbody tr th {\n",
       "        vertical-align: top;\n",
       "    }\n",
       "\n",
       "    .dataframe thead th {\n",
       "        text-align: right;\n",
       "    }\n",
       "</style>\n",
       "<table border=\"1\" class=\"dataframe\">\n",
       "  <thead>\n",
       "    <tr style=\"text-align: right;\">\n",
       "      <th></th>\n",
       "      <th>Max Phase</th>\n",
       "      <th>Molecular Weight</th>\n",
       "      <th>Targets</th>\n",
       "      <th>Bioactivities</th>\n",
       "      <th>AlogP</th>\n",
       "      <th>Polar Surface Area</th>\n",
       "      <th>HBA</th>\n",
       "      <th>HBD</th>\n",
       "      <th>#RO5 Violations</th>\n",
       "      <th>#Rotatable Bonds</th>\n",
       "      <th>QED Weighted</th>\n",
       "      <th>CX LogP</th>\n",
       "      <th>CX LogD</th>\n",
       "      <th>Aromatic Rings</th>\n",
       "      <th>Inorganic Flag</th>\n",
       "      <th>Heavy Atoms</th>\n",
       "      <th>HBA (Lipinski)</th>\n",
       "      <th>HBD (Lipinski)</th>\n",
       "      <th>#RO5 Violations (Lipinski)</th>\n",
       "      <th>Molecular Weight (Monoisotopic)</th>\n",
       "    </tr>\n",
       "  </thead>\n",
       "  <tbody>\n",
       "    <tr>\n",
       "      <th>count</th>\n",
       "      <td>1077.000000</td>\n",
       "      <td>1077.000000</td>\n",
       "      <td>1077.000000</td>\n",
       "      <td>1077.000000</td>\n",
       "      <td>1077.000000</td>\n",
       "      <td>1077.000000</td>\n",
       "      <td>1077.000000</td>\n",
       "      <td>1077.000000</td>\n",
       "      <td>1077.000000</td>\n",
       "      <td>1077.000000</td>\n",
       "      <td>1077.000000</td>\n",
       "      <td>1077.000000</td>\n",
       "      <td>1077.000000</td>\n",
       "      <td>1077.000000</td>\n",
       "      <td>1077.000000</td>\n",
       "      <td>1077.000000</td>\n",
       "      <td>1077.000000</td>\n",
       "      <td>1077.000000</td>\n",
       "      <td>1077.000000</td>\n",
       "      <td>1077.000000</td>\n",
       "    </tr>\n",
       "    <tr>\n",
       "      <th>mean</th>\n",
       "      <td>0.093779</td>\n",
       "      <td>415.628050</td>\n",
       "      <td>15.433612</td>\n",
       "      <td>60.224698</td>\n",
       "      <td>4.173231</td>\n",
       "      <td>78.704596</td>\n",
       "      <td>5.212628</td>\n",
       "      <td>1.781801</td>\n",
       "      <td>0.618384</td>\n",
       "      <td>5.696379</td>\n",
       "      <td>0.532878</td>\n",
       "      <td>4.091662</td>\n",
       "      <td>3.389006</td>\n",
       "      <td>2.596100</td>\n",
       "      <td>-0.966574</td>\n",
       "      <td>29.540390</td>\n",
       "      <td>5.793872</td>\n",
       "      <td>1.964717</td>\n",
       "      <td>0.623955</td>\n",
       "      <td>413.832799</td>\n",
       "    </tr>\n",
       "    <tr>\n",
       "      <th>std</th>\n",
       "      <td>0.560079</td>\n",
       "      <td>130.260436</td>\n",
       "      <td>66.613353</td>\n",
       "      <td>349.988265</td>\n",
       "      <td>1.648150</td>\n",
       "      <td>35.113047</td>\n",
       "      <td>2.164325</td>\n",
       "      <td>1.410833</td>\n",
       "      <td>0.807813</td>\n",
       "      <td>3.947108</td>\n",
       "      <td>0.218779</td>\n",
       "      <td>1.695187</td>\n",
       "      <td>2.022364</td>\n",
       "      <td>1.213808</td>\n",
       "      <td>0.179830</td>\n",
       "      <td>9.027812</td>\n",
       "      <td>2.302463</td>\n",
       "      <td>1.510391</td>\n",
       "      <td>0.819546</td>\n",
       "      <td>128.887607</td>\n",
       "    </tr>\n",
       "    <tr>\n",
       "      <th>min</th>\n",
       "      <td>0.000000</td>\n",
       "      <td>123.110000</td>\n",
       "      <td>1.000000</td>\n",
       "      <td>1.000000</td>\n",
       "      <td>-3.830000</td>\n",
       "      <td>0.000000</td>\n",
       "      <td>0.000000</td>\n",
       "      <td>0.000000</td>\n",
       "      <td>0.000000</td>\n",
       "      <td>0.000000</td>\n",
       "      <td>0.020000</td>\n",
       "      <td>-4.920000</td>\n",
       "      <td>-14.730000</td>\n",
       "      <td>0.000000</td>\n",
       "      <td>-1.000000</td>\n",
       "      <td>8.000000</td>\n",
       "      <td>0.000000</td>\n",
       "      <td>0.000000</td>\n",
       "      <td>0.000000</td>\n",
       "      <td>123.032000</td>\n",
       "    </tr>\n",
       "    <tr>\n",
       "      <th>25%</th>\n",
       "      <td>0.000000</td>\n",
       "      <td>311.420000</td>\n",
       "      <td>1.000000</td>\n",
       "      <td>2.000000</td>\n",
       "      <td>3.050000</td>\n",
       "      <td>56.670000</td>\n",
       "      <td>4.000000</td>\n",
       "      <td>1.000000</td>\n",
       "      <td>0.000000</td>\n",
       "      <td>3.000000</td>\n",
       "      <td>0.370000</td>\n",
       "      <td>2.950000</td>\n",
       "      <td>2.400000</td>\n",
       "      <td>2.000000</td>\n",
       "      <td>-1.000000</td>\n",
       "      <td>22.000000</td>\n",
       "      <td>4.000000</td>\n",
       "      <td>1.000000</td>\n",
       "      <td>0.000000</td>\n",
       "      <td>311.115800</td>\n",
       "    </tr>\n",
       "    <tr>\n",
       "      <th>50%</th>\n",
       "      <td>0.000000</td>\n",
       "      <td>400.520000</td>\n",
       "      <td>3.000000</td>\n",
       "      <td>4.000000</td>\n",
       "      <td>4.080000</td>\n",
       "      <td>73.060000</td>\n",
       "      <td>5.000000</td>\n",
       "      <td>2.000000</td>\n",
       "      <td>0.000000</td>\n",
       "      <td>5.000000</td>\n",
       "      <td>0.550000</td>\n",
       "      <td>4.010000</td>\n",
       "      <td>3.410000</td>\n",
       "      <td>3.000000</td>\n",
       "      <td>-1.000000</td>\n",
       "      <td>29.000000</td>\n",
       "      <td>5.000000</td>\n",
       "      <td>2.000000</td>\n",
       "      <td>0.000000</td>\n",
       "      <td>400.028500</td>\n",
       "    </tr>\n",
       "    <tr>\n",
       "      <th>75%</th>\n",
       "      <td>0.000000</td>\n",
       "      <td>514.760000</td>\n",
       "      <td>5.000000</td>\n",
       "      <td>8.000000</td>\n",
       "      <td>5.250000</td>\n",
       "      <td>93.060000</td>\n",
       "      <td>6.000000</td>\n",
       "      <td>2.000000</td>\n",
       "      <td>1.000000</td>\n",
       "      <td>7.000000</td>\n",
       "      <td>0.710000</td>\n",
       "      <td>5.150000</td>\n",
       "      <td>4.470000</td>\n",
       "      <td>3.000000</td>\n",
       "      <td>-1.000000</td>\n",
       "      <td>35.000000</td>\n",
       "      <td>7.000000</td>\n",
       "      <td>3.000000</td>\n",
       "      <td>1.000000</td>\n",
       "      <td>513.367900</td>\n",
       "    </tr>\n",
       "    <tr>\n",
       "      <th>max</th>\n",
       "      <td>4.000000</td>\n",
       "      <td>922.790000</td>\n",
       "      <td>852.000000</td>\n",
       "      <td>5702.000000</td>\n",
       "      <td>12.730000</td>\n",
       "      <td>281.200000</td>\n",
       "      <td>15.000000</td>\n",
       "      <td>10.000000</td>\n",
       "      <td>3.000000</td>\n",
       "      <td>33.000000</td>\n",
       "      <td>0.940000</td>\n",
       "      <td>13.210000</td>\n",
       "      <td>13.150000</td>\n",
       "      <td>7.000000</td>\n",
       "      <td>0.000000</td>\n",
       "      <td>62.000000</td>\n",
       "      <td>16.000000</td>\n",
       "      <td>10.000000</td>\n",
       "      <td>4.000000</td>\n",
       "      <td>920.286600</td>\n",
       "    </tr>\n",
       "  </tbody>\n",
       "</table>\n",
       "</div>"
      ],
      "text/plain": [
       "         Max Phase  Molecular Weight      Targets  Bioactivities        AlogP  \\\n",
       "count  1077.000000       1077.000000  1077.000000    1077.000000  1077.000000   \n",
       "mean      0.093779        415.628050    15.433612      60.224698     4.173231   \n",
       "std       0.560079        130.260436    66.613353     349.988265     1.648150   \n",
       "min       0.000000        123.110000     1.000000       1.000000    -3.830000   \n",
       "25%       0.000000        311.420000     1.000000       2.000000     3.050000   \n",
       "50%       0.000000        400.520000     3.000000       4.000000     4.080000   \n",
       "75%       0.000000        514.760000     5.000000       8.000000     5.250000   \n",
       "max       4.000000        922.790000   852.000000    5702.000000    12.730000   \n",
       "\n",
       "       Polar Surface Area          HBA          HBD  #RO5 Violations  \\\n",
       "count         1077.000000  1077.000000  1077.000000      1077.000000   \n",
       "mean            78.704596     5.212628     1.781801         0.618384   \n",
       "std             35.113047     2.164325     1.410833         0.807813   \n",
       "min              0.000000     0.000000     0.000000         0.000000   \n",
       "25%             56.670000     4.000000     1.000000         0.000000   \n",
       "50%             73.060000     5.000000     2.000000         0.000000   \n",
       "75%             93.060000     6.000000     2.000000         1.000000   \n",
       "max            281.200000    15.000000    10.000000         3.000000   \n",
       "\n",
       "       #Rotatable Bonds  QED Weighted      CX LogP      CX LogD  \\\n",
       "count       1077.000000   1077.000000  1077.000000  1077.000000   \n",
       "mean           5.696379      0.532878     4.091662     3.389006   \n",
       "std            3.947108      0.218779     1.695187     2.022364   \n",
       "min            0.000000      0.020000    -4.920000   -14.730000   \n",
       "25%            3.000000      0.370000     2.950000     2.400000   \n",
       "50%            5.000000      0.550000     4.010000     3.410000   \n",
       "75%            7.000000      0.710000     5.150000     4.470000   \n",
       "max           33.000000      0.940000    13.210000    13.150000   \n",
       "\n",
       "       Aromatic Rings  Inorganic Flag  Heavy Atoms  HBA (Lipinski)  \\\n",
       "count     1077.000000     1077.000000  1077.000000     1077.000000   \n",
       "mean         2.596100       -0.966574    29.540390        5.793872   \n",
       "std          1.213808        0.179830     9.027812        2.302463   \n",
       "min          0.000000       -1.000000     8.000000        0.000000   \n",
       "25%          2.000000       -1.000000    22.000000        4.000000   \n",
       "50%          3.000000       -1.000000    29.000000        5.000000   \n",
       "75%          3.000000       -1.000000    35.000000        7.000000   \n",
       "max          7.000000        0.000000    62.000000       16.000000   \n",
       "\n",
       "       HBD (Lipinski)  #RO5 Violations (Lipinski)  \\\n",
       "count     1077.000000                 1077.000000   \n",
       "mean         1.964717                    0.623955   \n",
       "std          1.510391                    0.819546   \n",
       "min          0.000000                    0.000000   \n",
       "25%          1.000000                    0.000000   \n",
       "50%          2.000000                    0.000000   \n",
       "75%          3.000000                    1.000000   \n",
       "max         10.000000                    4.000000   \n",
       "\n",
       "       Molecular Weight (Monoisotopic)  \n",
       "count                      1077.000000  \n",
       "mean                        413.832799  \n",
       "std                         128.887607  \n",
       "min                         123.032000  \n",
       "25%                         311.115800  \n",
       "50%                         400.028500  \n",
       "75%                         513.367900  \n",
       "max                         920.286600  "
      ]
     },
     "execution_count": 12,
     "metadata": {},
     "output_type": "execute_result"
    }
   ],
   "source": [
    "df_drop_row.describe()"
   ]
  },
  {
   "cell_type": "markdown",
   "id": "d601b5f9-1f52-46bc-a77d-4435f0a0bf8f",
   "metadata": {},
   "source": [
    "<h1>Supprimer les lignes dupliquées  </h1>"
   ]
  },
  {
   "cell_type": "code",
   "execution_count": 13,
   "id": "68957025-9d61-4db4-8f53-b6ce8ad37192",
   "metadata": {},
   "outputs": [
    {
     "data": {
      "text/plain": [
       "(1031, 26)"
      ]
     },
     "execution_count": 13,
     "metadata": {},
     "output_type": "execute_result"
    }
   ],
   "source": [
    "ddd=df_drop_row.drop_duplicates(subset=['Molecule_ChEMBL_ID'])\n",
    "ddd.shape"
   ]
  },
  {
   "cell_type": "markdown",
   "id": "d360f2b9-129a-4229-8311-94898c759ffd",
   "metadata": {},
   "source": [
    "<h1>Exporting data</h1>"
   ]
  },
  {
   "cell_type": "code",
   "execution_count": 14,
   "id": "f2a0aba9-4c2d-4395-b501-049dd6da34de",
   "metadata": {},
   "outputs": [],
   "source": [
    "ddd.to_csv(\"3_data_moleculaire_desc_cleaned.csv\" ,index=False)"
   ]
  },
  {
   "cell_type": "code",
   "execution_count": null,
   "id": "21c990f2-bc71-462d-8dda-d2e594239e6e",
   "metadata": {},
   "outputs": [],
   "source": []
  }
 ],
 "metadata": {
  "kernelspec": {
   "display_name": "Python 3 (ipykernel)",
   "language": "python",
   "name": "python3"
  },
  "language_info": {
   "codemirror_mode": {
    "name": "ipython",
    "version": 3
   },
   "file_extension": ".py",
   "mimetype": "text/x-python",
   "name": "python",
   "nbconvert_exporter": "python",
   "pygments_lexer": "ipython3",
   "version": "3.9.7"
  }
 },
 "nbformat": 4,
 "nbformat_minor": 5
}
